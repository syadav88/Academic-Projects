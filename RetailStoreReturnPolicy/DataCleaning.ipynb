{
 "cells": [
  {
   "cell_type": "markdown",
   "metadata": {},
   "source": [
    "## Project 3: RETAIL STORE RETURN POLICY CHANGE \n",
    "\n",
    "\n"
   ]
  },
  {
   "cell_type": "code",
   "execution_count": 2,
   "metadata": {
    "collapsed": true
   },
   "outputs": [],
   "source": [
    "import pandas as pd\n",
    "from pandas import DataFrame\n",
    "import numpy as np\n",
    "from pandasql import sqldf\n",
    "import re"
   ]
  },
  {
   "cell_type": "markdown",
   "metadata": {},
   "source": [
    "### Importing Data"
   ]
  },
  {
   "cell_type": "code",
   "execution_count": 3,
   "metadata": {
    "collapsed": false
   },
   "outputs": [],
   "source": [
    "trans = pd.read_csv('/Users/mugdhapotdar/Downloads/Transactions and customer attributes.txt', sep = '\\t')"
   ]
  },
  {
   "cell_type": "code",
   "execution_count": 4,
   "metadata": {
    "collapsed": false
   },
   "outputs": [
    {
     "data": {
      "text/html": [
       "<div>\n",
       "<table border=\"1\" class=\"dataframe\">\n",
       "  <thead>\n",
       "    <tr style=\"text-align: right;\">\n",
       "      <th></th>\n",
       "      <th>customer_id</th>\n",
       "      <th>purchase_date</th>\n",
       "      <th>transaction_id</th>\n",
       "      <th>store_number</th>\n",
       "      <th>net_purchase_amount</th>\n",
       "      <th>sku</th>\n",
       "      <th>sales_assoc_1</th>\n",
       "      <th>return</th>\n",
       "      <th>return_date</th>\n",
       "      <th>return_store</th>\n",
       "      <th>...</th>\n",
       "      <th>est_income_code</th>\n",
       "      <th>ethnic_code</th>\n",
       "      <th>homeowner_code</th>\n",
       "      <th>length_of_residence</th>\n",
       "      <th>child</th>\n",
       "      <th>year</th>\n",
       "      <th>month</th>\n",
       "      <th>month_index</th>\n",
       "      <th>summary</th>\n",
       "      <th>Brand_number</th>\n",
       "    </tr>\n",
       "  </thead>\n",
       "  <tbody>\n",
       "    <tr>\n",
       "      <th>0</th>\n",
       "      <td>1000000830585</td>\n",
       "      <td>18DEC2013:00:00:00</td>\n",
       "      <td>5184137</td>\n",
       "      <td>2</td>\n",
       "      <td>58.490002</td>\n",
       "      <td>19950612</td>\n",
       "      <td>0.0</td>\n",
       "      <td>0</td>\n",
       "      <td>NaN</td>\n",
       "      <td>NaN</td>\n",
       "      <td>...</td>\n",
       "      <td>6.0</td>\n",
       "      <td>N</td>\n",
       "      <td>O</td>\n",
       "      <td>10.0</td>\n",
       "      <td>Y</td>\n",
       "      <td>2013</td>\n",
       "      <td>DEC</td>\n",
       "      <td>53</td>\n",
       "      <td>NaN</td>\n",
       "      <td>1</td>\n",
       "    </tr>\n",
       "    <tr>\n",
       "      <th>1</th>\n",
       "      <td>35931485</td>\n",
       "      <td>15DEC2013:00:00:00</td>\n",
       "      <td>5121239</td>\n",
       "      <td>2</td>\n",
       "      <td>179.990010</td>\n",
       "      <td>19117175</td>\n",
       "      <td>0.0</td>\n",
       "      <td>0</td>\n",
       "      <td>NaN</td>\n",
       "      <td>NaN</td>\n",
       "      <td>...</td>\n",
       "      <td>7.0</td>\n",
       "      <td>N</td>\n",
       "      <td>O</td>\n",
       "      <td>15.0</td>\n",
       "      <td>N</td>\n",
       "      <td>2013</td>\n",
       "      <td>DEC</td>\n",
       "      <td>53</td>\n",
       "      <td>4.0</td>\n",
       "      <td>1</td>\n",
       "    </tr>\n",
       "    <tr>\n",
       "      <th>2</th>\n",
       "      <td>36792453</td>\n",
       "      <td>05JUN2013:00:00:00</td>\n",
       "      <td>4609592</td>\n",
       "      <td>2</td>\n",
       "      <td>136.929990</td>\n",
       "      <td>19205426</td>\n",
       "      <td>0.0</td>\n",
       "      <td>0</td>\n",
       "      <td>NaN</td>\n",
       "      <td>NaN</td>\n",
       "      <td>...</td>\n",
       "      <td>2.0</td>\n",
       "      <td>N</td>\n",
       "      <td>O</td>\n",
       "      <td>8.0</td>\n",
       "      <td>Y</td>\n",
       "      <td>2013</td>\n",
       "      <td>JUN</td>\n",
       "      <td>47</td>\n",
       "      <td>21.0</td>\n",
       "      <td>1</td>\n",
       "    </tr>\n",
       "  </tbody>\n",
       "</table>\n",
       "<p>3 rows × 23 columns</p>\n",
       "</div>"
      ],
      "text/plain": [
       "     customer_id       purchase_date  transaction_id  store_number  \\\n",
       "0  1000000830585  18DEC2013:00:00:00         5184137             2   \n",
       "1       35931485  15DEC2013:00:00:00         5121239             2   \n",
       "2       36792453  05JUN2013:00:00:00         4609592             2   \n",
       "\n",
       "   net_purchase_amount       sku  sales_assoc_1  return return_date  \\\n",
       "0            58.490002  19950612            0.0       0         NaN   \n",
       "1           179.990010  19117175            0.0       0         NaN   \n",
       "2           136.929990  19205426            0.0       0         NaN   \n",
       "\n",
       "   return_store     ...       est_income_code ethnic_code  homeowner_code  \\\n",
       "0           NaN     ...                   6.0           N               O   \n",
       "1           NaN     ...                   7.0           N               O   \n",
       "2           NaN     ...                   2.0           N               O   \n",
       "\n",
       "   length_of_residence child  year  month month_index  summary Brand_number  \n",
       "0                 10.0     Y  2013    DEC          53      NaN            1  \n",
       "1                 15.0     N  2013    DEC          53      4.0            1  \n",
       "2                  8.0     Y  2013    JUN          47     21.0            1  \n",
       "\n",
       "[3 rows x 23 columns]"
      ]
     },
     "execution_count": 4,
     "metadata": {},
     "output_type": "execute_result"
    }
   ],
   "source": [
    "trans.head(3)"
   ]
  },
  {
   "cell_type": "code",
   "execution_count": 5,
   "metadata": {
    "collapsed": false
   },
   "outputs": [
    {
     "data": {
      "text/plain": [
       "Index([u'customer_id', u'purchase_date', u'transaction_id', u'store_number',\n",
       "       u'net_purchase_amount', u'sku', u'sales_assoc_1', u'return',\n",
       "       u'return_date', u'return_store', u'time_to_return', u'gender',\n",
       "       u'age_band', u'est_income_code', u'ethnic_code', u'homeowner_code',\n",
       "       u'length_of_residence', u'child', u'year', u'month', u'month_index',\n",
       "       u'summary', u'Brand_number'],\n",
       "      dtype='object')"
      ]
     },
     "execution_count": 5,
     "metadata": {},
     "output_type": "execute_result"
    }
   ],
   "source": [
    "trans.columns"
   ]
  },
  {
   "cell_type": "code",
   "execution_count": 6,
   "metadata": {
    "collapsed": false
   },
   "outputs": [],
   "source": [
    "store = pd.read_csv('/Users/mugdhapotdar/Downloads/store_attributes.csv')"
   ]
  },
  {
   "cell_type": "code",
   "execution_count": 7,
   "metadata": {
    "collapsed": false
   },
   "outputs": [
    {
     "data": {
      "text/plain": [
       "Index([u'store_number', u'month_index', u'month', u'year',\n",
       "       u'store_average_price', u'store_number_of_skus', u'sa_gender',\n",
       "       u'sa_full_time', u'sa_avg_years_of_exp', u'sa_married',\n",
       "       u'sa_avg_rate_of_pay', u'sa_dependent', u'Brand_number',\n",
       "       u'sales_volume_group'],\n",
       "      dtype='object')"
      ]
     },
     "execution_count": 7,
     "metadata": {},
     "output_type": "execute_result"
    }
   ],
   "source": [
    "store.columns"
   ]
  },
  {
   "cell_type": "markdown",
   "metadata": {},
   "source": [
    "### SQLDF to run SQL queries on Pandas Dataframes"
   ]
  },
  {
   "cell_type": "code",
   "execution_count": 8,
   "metadata": {
    "collapsed": true
   },
   "outputs": [],
   "source": [
    "# SQLDF to run SQL queries on Pandas DataFrames\n",
    "# defining a function to specify second parameter for sqldf function as global()\n",
    "py_sql = (lambda s: sqldf(s, globals()))"
   ]
  },
  {
   "cell_type": "code",
   "execution_count": 9,
   "metadata": {
    "collapsed": true
   },
   "outputs": [],
   "source": [
    "# For Returns (Q2, Q4 and Q6) considering only those rows where return = 1 this is for Q3 and Q4\n",
    "trans_p = py_sql(\"SELECT * FROM trans where return = 1;\")"
   ]
  },
  {
   "cell_type": "code",
   "execution_count": 10,
   "metadata": {
    "collapsed": false
   },
   "outputs": [
    {
     "data": {
      "text/html": [
       "<div>\n",
       "<table border=\"1\" class=\"dataframe\">\n",
       "  <thead>\n",
       "    <tr style=\"text-align: right;\">\n",
       "      <th></th>\n",
       "      <th>customer_id</th>\n",
       "      <th>purchase_date</th>\n",
       "      <th>transaction_id</th>\n",
       "      <th>store_number</th>\n",
       "      <th>net_purchase_amount</th>\n",
       "      <th>sku</th>\n",
       "      <th>sales_assoc_1</th>\n",
       "      <th>return</th>\n",
       "      <th>return_date</th>\n",
       "      <th>return_store</th>\n",
       "      <th>...</th>\n",
       "      <th>est_income_code</th>\n",
       "      <th>ethnic_code</th>\n",
       "      <th>homeowner_code</th>\n",
       "      <th>length_of_residence</th>\n",
       "      <th>child</th>\n",
       "      <th>year</th>\n",
       "      <th>month</th>\n",
       "      <th>month_index</th>\n",
       "      <th>summary</th>\n",
       "      <th>Brand_number</th>\n",
       "    </tr>\n",
       "  </thead>\n",
       "  <tbody>\n",
       "    <tr>\n",
       "      <th>0</th>\n",
       "      <td>100760.0</td>\n",
       "      <td>20DEC2013:00:00:00</td>\n",
       "      <td>5210109.0</td>\n",
       "      <td>2.0</td>\n",
       "      <td>72.239998</td>\n",
       "      <td>17934779.0</td>\n",
       "      <td>0.0</td>\n",
       "      <td>1.0</td>\n",
       "      <td>08JAN2014:00:00:00</td>\n",
       "      <td>2.0</td>\n",
       "      <td>...</td>\n",
       "      <td>6.0</td>\n",
       "      <td>Z</td>\n",
       "      <td>O</td>\n",
       "      <td>5.0</td>\n",
       "      <td>Y</td>\n",
       "      <td>2013.0</td>\n",
       "      <td>DEC</td>\n",
       "      <td>53.0</td>\n",
       "      <td>4.0</td>\n",
       "      <td>1.0</td>\n",
       "    </tr>\n",
       "    <tr>\n",
       "      <th>1</th>\n",
       "      <td>38198535.0</td>\n",
       "      <td>23JUL2013:00:00:00</td>\n",
       "      <td>4687325.0</td>\n",
       "      <td>2.0</td>\n",
       "      <td>369.989990</td>\n",
       "      <td>18669945.0</td>\n",
       "      <td>0.0</td>\n",
       "      <td>1.0</td>\n",
       "      <td>30AUG2013:00:00:00</td>\n",
       "      <td>2.0</td>\n",
       "      <td>...</td>\n",
       "      <td>1.0</td>\n",
       "      <td>N</td>\n",
       "      <td>R</td>\n",
       "      <td>0.0</td>\n",
       "      <td>N</td>\n",
       "      <td>2013.0</td>\n",
       "      <td>JUL</td>\n",
       "      <td>48.0</td>\n",
       "      <td>1.0</td>\n",
       "      <td>1.0</td>\n",
       "    </tr>\n",
       "  </tbody>\n",
       "</table>\n",
       "<p>2 rows × 23 columns</p>\n",
       "</div>"
      ],
      "text/plain": [
       "   customer_id       purchase_date  transaction_id  store_number  \\\n",
       "0     100760.0  20DEC2013:00:00:00       5210109.0           2.0   \n",
       "1   38198535.0  23JUL2013:00:00:00       4687325.0           2.0   \n",
       "\n",
       "   net_purchase_amount         sku  sales_assoc_1  return         return_date  \\\n",
       "0            72.239998  17934779.0            0.0     1.0  08JAN2014:00:00:00   \n",
       "1           369.989990  18669945.0            0.0     1.0  30AUG2013:00:00:00   \n",
       "\n",
       "   return_store     ...       est_income_code ethnic_code  homeowner_code  \\\n",
       "0           2.0     ...                   6.0           Z               O   \n",
       "1           2.0     ...                   1.0           N               R   \n",
       "\n",
       "   length_of_residence child    year  month month_index  summary Brand_number  \n",
       "0                  5.0     Y  2013.0    DEC        53.0      4.0          1.0  \n",
       "1                  0.0     N  2013.0    JUL        48.0      1.0          1.0  \n",
       "\n",
       "[2 rows x 23 columns]"
      ]
     },
     "execution_count": 10,
     "metadata": {},
     "output_type": "execute_result"
    }
   ],
   "source": [
    "trans_p.head(2)"
   ]
  },
  {
   "cell_type": "markdown",
   "metadata": {},
   "source": [
    "### Question 1. What is the impact of the policy change on online channel sales? \n",
    "                DataFrame q1_final"
   ]
  },
  {
   "cell_type": "code",
   "execution_count": 11,
   "metadata": {
    "collapsed": false
   },
   "outputs": [],
   "source": [
    "# q1 part 1\n",
    "q1 = py_sql(\"SELECT store_number, month, Brand_number, \\\n",
    "                sum(case when gender in ('F') then 1 else 0 end) as Female, \\\n",
    "                sum(case when gender in ('M','F') then 1 else 0 end) as Total_Female, \\\n",
    "                avg(age_band) as Age_Band_Ratio, \\\n",
    "                sum(case when homeowner_code = 'O' then 1 else 0 end) as HomeOwner, \\\n",
    "                sum(case when homeowner_code in ('O','R') then 1 else 0 end) as Total_Homeowner, \\\n",
    "                sum(case when child = 'Y' then 1 else 0 end) as Child, \\\n",
    "                sum(case when child in ('Y','N') then 1 else 0 end) as Total_Child, \\\n",
    "                avg(est_income_code) as Income_Ratio, \\\n",
    "                sum(net_purchase_amount) as Sales_Price, \\\n",
    "                count(*) as Sales_Quantity, \\\n",
    "                (case when month_index > 50 then 1 else 0 end) as Policy_Change  \\\n",
    "                FROM trans \\\n",
    "                GROUP BY store_number, month ;\")"
   ]
  },
  {
   "cell_type": "code",
   "execution_count": 12,
   "metadata": {
    "collapsed": false
   },
   "outputs": [
    {
     "data": {
      "text/html": [
       "<div>\n",
       "<table border=\"1\" class=\"dataframe\">\n",
       "  <thead>\n",
       "    <tr style=\"text-align: right;\">\n",
       "      <th></th>\n",
       "      <th>store_number</th>\n",
       "      <th>month</th>\n",
       "      <th>Brand_number</th>\n",
       "      <th>Female</th>\n",
       "      <th>Total_Female</th>\n",
       "      <th>Age_Band_Ratio</th>\n",
       "      <th>HomeOwner</th>\n",
       "      <th>Total_Homeowner</th>\n",
       "      <th>Child</th>\n",
       "      <th>Total_Child</th>\n",
       "      <th>Income_Ratio</th>\n",
       "      <th>Sales_Price</th>\n",
       "      <th>Sales_Quantity</th>\n",
       "      <th>Policy_Change</th>\n",
       "    </tr>\n",
       "  </thead>\n",
       "  <tbody>\n",
       "    <tr>\n",
       "      <th>0</th>\n",
       "      <td>2.0</td>\n",
       "      <td>APR</td>\n",
       "      <td>1.0</td>\n",
       "      <td>19153</td>\n",
       "      <td>35919</td>\n",
       "      <td>4.472780</td>\n",
       "      <td>27411</td>\n",
       "      <td>43293</td>\n",
       "      <td>18053</td>\n",
       "      <td>43293</td>\n",
       "      <td>5.242857</td>\n",
       "      <td>6.620615e+06</td>\n",
       "      <td>43417</td>\n",
       "      <td>0</td>\n",
       "    </tr>\n",
       "    <tr>\n",
       "      <th>1</th>\n",
       "      <td>2.0</td>\n",
       "      <td>AUG</td>\n",
       "      <td>1.0</td>\n",
       "      <td>12189</td>\n",
       "      <td>22895</td>\n",
       "      <td>4.045565</td>\n",
       "      <td>19186</td>\n",
       "      <td>28998</td>\n",
       "      <td>12302</td>\n",
       "      <td>28998</td>\n",
       "      <td>5.407407</td>\n",
       "      <td>5.688315e+06</td>\n",
       "      <td>29338</td>\n",
       "      <td>0</td>\n",
       "    </tr>\n",
       "  </tbody>\n",
       "</table>\n",
       "</div>"
      ],
      "text/plain": [
       "   store_number month  Brand_number  Female  Total_Female  Age_Band_Ratio  \\\n",
       "0           2.0   APR           1.0   19153         35919        4.472780   \n",
       "1           2.0   AUG           1.0   12189         22895        4.045565   \n",
       "\n",
       "   HomeOwner  Total_Homeowner  Child  Total_Child  Income_Ratio   Sales_Price  \\\n",
       "0      27411            43293  18053        43293      5.242857  6.620615e+06   \n",
       "1      19186            28998  12302        28998      5.407407  5.688315e+06   \n",
       "\n",
       "   Sales_Quantity  Policy_Change  \n",
       "0           43417              0  \n",
       "1           29338              0  "
      ]
     },
     "execution_count": 12,
     "metadata": {},
     "output_type": "execute_result"
    }
   ],
   "source": [
    "q1.head(2)"
   ]
  },
  {
   "cell_type": "code",
   "execution_count": 13,
   "metadata": {
    "collapsed": true
   },
   "outputs": [],
   "source": [
    "# q1 part 2\n",
    "# online store with all ratios \n",
    "q11 = py_sql(\"SELECT store_number, month, \\\n",
    "                 Age_Band_Ratio, \\\n",
    "                Female / Total_Female as Gender_Ratio, \\\n",
    "                HomeOwner / Total_Homeowner as HomeOwner_Ratio, \\\n",
    "                Child / Total_Child as Child_Ratio, \\\n",
    "                Income_Ratio, \\\n",
    "                Sales_Price, \\\n",
    "                Sales_Quantity, \\\n",
    "                Policy_Change,  \\\n",
    "               (case when store_number in (2,6) then 1 else 0 end ) as Treatment \\\n",
    "                FROM q1 \\\n",
    "                WHERE store_number = 2 or store_number = 6 or store_number = 10 \\\n",
    "                GROUP BY store_number, month;\")"
   ]
  },
  {
   "cell_type": "code",
   "execution_count": 14,
   "metadata": {
    "collapsed": false
   },
   "outputs": [
    {
     "data": {
      "text/html": [
       "<div>\n",
       "<table border=\"1\" class=\"dataframe\">\n",
       "  <thead>\n",
       "    <tr style=\"text-align: right;\">\n",
       "      <th></th>\n",
       "      <th>store_number</th>\n",
       "      <th>month</th>\n",
       "      <th>Age_Band_Ratio</th>\n",
       "      <th>Gender_Ratio</th>\n",
       "      <th>HomeOwner_Ratio</th>\n",
       "      <th>Child_Ratio</th>\n",
       "      <th>Income_Ratio</th>\n",
       "      <th>Sales_Price</th>\n",
       "      <th>Sales_Quantity</th>\n",
       "      <th>Policy_Change</th>\n",
       "      <th>Treatment</th>\n",
       "    </tr>\n",
       "  </thead>\n",
       "  <tbody>\n",
       "    <tr>\n",
       "      <th>0</th>\n",
       "      <td>2.0</td>\n",
       "      <td>APR</td>\n",
       "      <td>4.472780</td>\n",
       "      <td>0.533228</td>\n",
       "      <td>0.633151</td>\n",
       "      <td>0.416996</td>\n",
       "      <td>5.242857</td>\n",
       "      <td>6.620615e+06</td>\n",
       "      <td>43417.0</td>\n",
       "      <td>0.0</td>\n",
       "      <td>1</td>\n",
       "    </tr>\n",
       "    <tr>\n",
       "      <th>1</th>\n",
       "      <td>2.0</td>\n",
       "      <td>AUG</td>\n",
       "      <td>4.045565</td>\n",
       "      <td>0.532387</td>\n",
       "      <td>0.661632</td>\n",
       "      <td>0.424236</td>\n",
       "      <td>5.407407</td>\n",
       "      <td>5.688315e+06</td>\n",
       "      <td>29338.0</td>\n",
       "      <td>0.0</td>\n",
       "      <td>1</td>\n",
       "    </tr>\n",
       "  </tbody>\n",
       "</table>\n",
       "</div>"
      ],
      "text/plain": [
       "   store_number month  Age_Band_Ratio  Gender_Ratio  HomeOwner_Ratio  \\\n",
       "0           2.0   APR        4.472780      0.533228         0.633151   \n",
       "1           2.0   AUG        4.045565      0.532387         0.661632   \n",
       "\n",
       "   Child_Ratio  Income_Ratio   Sales_Price  Sales_Quantity  Policy_Change  \\\n",
       "0     0.416996      5.242857  6.620615e+06         43417.0            0.0   \n",
       "1     0.424236      5.407407  5.688315e+06         29338.0            0.0   \n",
       "\n",
       "   Treatment  \n",
       "0          1  \n",
       "1          1  "
      ]
     },
     "execution_count": 14,
     "metadata": {},
     "output_type": "execute_result"
    }
   ],
   "source": [
    "q11.head(2)"
   ]
  },
  {
   "cell_type": "code",
   "execution_count": 15,
   "metadata": {
    "collapsed": false
   },
   "outputs": [],
   "source": [
    "# q1 final Data Frame\n",
    "q1_final = py_sql(\"SELECT td.*, st.store_number_of_skus \\\n",
    "                   FROM q11 td \\\n",
    "                   INNER JOIN store st \\\n",
    "                   ON td.store_number = st.store_number \\\n",
    "                   AND td.month = st.month;\")\n",
    "            "
   ]
  },
  {
   "cell_type": "code",
   "execution_count": 16,
   "metadata": {
    "collapsed": false
   },
   "outputs": [
    {
     "data": {
      "text/html": [
       "<div>\n",
       "<table border=\"1\" class=\"dataframe\">\n",
       "  <thead>\n",
       "    <tr style=\"text-align: right;\">\n",
       "      <th></th>\n",
       "      <th>store_number</th>\n",
       "      <th>month</th>\n",
       "      <th>Age_Band_Ratio</th>\n",
       "      <th>Gender_Ratio</th>\n",
       "      <th>HomeOwner_Ratio</th>\n",
       "      <th>Child_Ratio</th>\n",
       "      <th>Income_Ratio</th>\n",
       "      <th>Sales_Price</th>\n",
       "      <th>Sales_Quantity</th>\n",
       "      <th>Policy_Change</th>\n",
       "      <th>Treatment</th>\n",
       "      <th>store_number_of_skus</th>\n",
       "    </tr>\n",
       "  </thead>\n",
       "  <tbody>\n",
       "    <tr>\n",
       "      <th>0</th>\n",
       "      <td>2.0</td>\n",
       "      <td>APR</td>\n",
       "      <td>4.472780</td>\n",
       "      <td>0.533228</td>\n",
       "      <td>0.633151</td>\n",
       "      <td>0.416996</td>\n",
       "      <td>5.242857</td>\n",
       "      <td>6.620615e+06</td>\n",
       "      <td>43417.0</td>\n",
       "      <td>0.0</td>\n",
       "      <td>1.0</td>\n",
       "      <td>11134.0</td>\n",
       "    </tr>\n",
       "    <tr>\n",
       "      <th>1</th>\n",
       "      <td>2.0</td>\n",
       "      <td>AUG</td>\n",
       "      <td>4.045565</td>\n",
       "      <td>0.532387</td>\n",
       "      <td>0.661632</td>\n",
       "      <td>0.424236</td>\n",
       "      <td>5.407407</td>\n",
       "      <td>5.688315e+06</td>\n",
       "      <td>29338.0</td>\n",
       "      <td>0.0</td>\n",
       "      <td>1.0</td>\n",
       "      <td>10352.0</td>\n",
       "    </tr>\n",
       "  </tbody>\n",
       "</table>\n",
       "</div>"
      ],
      "text/plain": [
       "   store_number month  Age_Band_Ratio  Gender_Ratio  HomeOwner_Ratio  \\\n",
       "0           2.0   APR        4.472780      0.533228         0.633151   \n",
       "1           2.0   AUG        4.045565      0.532387         0.661632   \n",
       "\n",
       "   Child_Ratio  Income_Ratio   Sales_Price  Sales_Quantity  Policy_Change  \\\n",
       "0     0.416996      5.242857  6.620615e+06         43417.0            0.0   \n",
       "1     0.424236      5.407407  5.688315e+06         29338.0            0.0   \n",
       "\n",
       "   Treatment  store_number_of_skus  \n",
       "0        1.0               11134.0  \n",
       "1        1.0               10352.0  "
      ]
     },
     "execution_count": 16,
     "metadata": {},
     "output_type": "execute_result"
    }
   ],
   "source": [
    "q1_final.head(2)"
   ]
  },
  {
   "cell_type": "code",
   "execution_count": 17,
   "metadata": {
    "collapsed": false
   },
   "outputs": [],
   "source": [
    "q1_final.to_csv(\"M_q1.csv\")"
   ]
  },
  {
   "cell_type": "markdown",
   "metadata": {},
   "source": [
    "### Q.2 What is the impact of the policy change on physical store sales?\n",
    "         Dataframe q2_final"
   ]
  },
  {
   "cell_type": "code",
   "execution_count": 18,
   "metadata": {
    "collapsed": false
   },
   "outputs": [],
   "source": [
    "q21 = py_sql(\"SELECT store_number, month, \\\n",
    "                     Age_Band_Ratio, \\\n",
    "                     Female / Total_Female as Gender_Ratio, \\\n",
    "                     HomeOwner / Total_Homeowner as HomeOwner_Ratio, \\\n",
    "                     Child / Total_Child as Child_Ratio, \\\n",
    "                     Income_Ratio, \\\n",
    "                     Sales_Price, \\\n",
    "                     Sales_Quantity, \\\n",
    "                     Policy_Change,  \\\n",
    "                     (case when Brand_number in (2,3,5) then 1 else 0 end ) as Treatment \\\n",
    "              FROM q1 \\\n",
    "              WHERE store_number not in (2,6,10) \\\n",
    "              GROUP BY store_number, month;\")"
   ]
  },
  {
   "cell_type": "code",
   "execution_count": 19,
   "metadata": {
    "collapsed": false
   },
   "outputs": [
    {
     "data": {
      "text/html": [
       "<div>\n",
       "<table border=\"1\" class=\"dataframe\">\n",
       "  <thead>\n",
       "    <tr style=\"text-align: right;\">\n",
       "      <th></th>\n",
       "      <th>store_number</th>\n",
       "      <th>month</th>\n",
       "      <th>Age_Band_Ratio</th>\n",
       "      <th>Gender_Ratio</th>\n",
       "      <th>HomeOwner_Ratio</th>\n",
       "      <th>Child_Ratio</th>\n",
       "      <th>Income_Ratio</th>\n",
       "      <th>Sales_Price</th>\n",
       "      <th>Sales_Quantity</th>\n",
       "      <th>Policy_Change</th>\n",
       "      <th>Treatment</th>\n",
       "    </tr>\n",
       "  </thead>\n",
       "  <tbody>\n",
       "    <tr>\n",
       "      <th>0</th>\n",
       "      <td>15.0</td>\n",
       "      <td>APR</td>\n",
       "      <td>4.434783</td>\n",
       "      <td>0.866667</td>\n",
       "      <td>0.695652</td>\n",
       "      <td>0.434783</td>\n",
       "      <td>4.173913</td>\n",
       "      <td>7398.890057</td>\n",
       "      <td>335.0</td>\n",
       "      <td>0.0</td>\n",
       "      <td>0</td>\n",
       "    </tr>\n",
       "    <tr>\n",
       "      <th>1</th>\n",
       "      <td>15.0</td>\n",
       "      <td>AUG</td>\n",
       "      <td>5.200000</td>\n",
       "      <td>0.866667</td>\n",
       "      <td>0.733333</td>\n",
       "      <td>0.800000</td>\n",
       "      <td>5.200000</td>\n",
       "      <td>11418.600079</td>\n",
       "      <td>526.0</td>\n",
       "      <td>0.0</td>\n",
       "      <td>0</td>\n",
       "    </tr>\n",
       "  </tbody>\n",
       "</table>\n",
       "</div>"
      ],
      "text/plain": [
       "   store_number month  Age_Band_Ratio  Gender_Ratio  HomeOwner_Ratio  \\\n",
       "0          15.0   APR        4.434783      0.866667         0.695652   \n",
       "1          15.0   AUG        5.200000      0.866667         0.733333   \n",
       "\n",
       "   Child_Ratio  Income_Ratio   Sales_Price  Sales_Quantity  Policy_Change  \\\n",
       "0     0.434783      4.173913   7398.890057           335.0            0.0   \n",
       "1     0.800000      5.200000  11418.600079           526.0            0.0   \n",
       "\n",
       "   Treatment  \n",
       "0          0  \n",
       "1          0  "
      ]
     },
     "execution_count": 19,
     "metadata": {},
     "output_type": "execute_result"
    }
   ],
   "source": [
    "q21.head(2)"
   ]
  },
  {
   "cell_type": "code",
   "execution_count": 20,
   "metadata": {
    "collapsed": true
   },
   "outputs": [],
   "source": [
    "# q2 final Data Frame\n",
    "q2_final = py_sql(\"SELECT td1.*, st1.store_average_price, st1.sa_gender, st1.sa_full_time, \\\n",
    "                          st1.sa_avg_years_of_exp, st1.sa_married, st1.sa_avg_rate_of_pay, st1.sa_dependent, \\\n",
    "                          st1.store_number_of_skus, st1.Brand_number, st1.sales_volume_group \\\n",
    "                   FROM q21 td1 \\\n",
    "                   INNER JOIN store st1 \\\n",
    "                   ON td1.store_number = st1.store_number \\\n",
    "                   AND td1.month = st1.month;\")"
   ]
  },
  {
   "cell_type": "code",
   "execution_count": 21,
   "metadata": {
    "collapsed": false
   },
   "outputs": [
    {
     "data": {
      "text/html": [
       "<div>\n",
       "<table border=\"1\" class=\"dataframe\">\n",
       "  <thead>\n",
       "    <tr style=\"text-align: right;\">\n",
       "      <th></th>\n",
       "      <th>store_number</th>\n",
       "      <th>month</th>\n",
       "      <th>Age_Band_Ratio</th>\n",
       "      <th>Gender_Ratio</th>\n",
       "      <th>HomeOwner_Ratio</th>\n",
       "      <th>Child_Ratio</th>\n",
       "      <th>Income_Ratio</th>\n",
       "      <th>Sales_Price</th>\n",
       "      <th>Sales_Quantity</th>\n",
       "      <th>Policy_Change</th>\n",
       "      <th>...</th>\n",
       "      <th>store_average_price</th>\n",
       "      <th>sa_gender</th>\n",
       "      <th>sa_full_time</th>\n",
       "      <th>sa_avg_years_of_exp</th>\n",
       "      <th>sa_married</th>\n",
       "      <th>sa_avg_rate_of_pay</th>\n",
       "      <th>sa_dependent</th>\n",
       "      <th>store_number_of_skus</th>\n",
       "      <th>Brand_number</th>\n",
       "      <th>sales_volume_group</th>\n",
       "    </tr>\n",
       "  </thead>\n",
       "  <tbody>\n",
       "    <tr>\n",
       "      <th>0</th>\n",
       "      <td>16.0</td>\n",
       "      <td>APR</td>\n",
       "      <td>5.607143</td>\n",
       "      <td>0.619048</td>\n",
       "      <td>0.714286</td>\n",
       "      <td>0.678571</td>\n",
       "      <td>6.107143</td>\n",
       "      <td>6742.280023</td>\n",
       "      <td>327.0</td>\n",
       "      <td>0.0</td>\n",
       "      <td>...</td>\n",
       "      <td>32.91</td>\n",
       "      <td>1.0</td>\n",
       "      <td>0.67</td>\n",
       "      <td>1.0</td>\n",
       "      <td>0.0</td>\n",
       "      <td>10.67</td>\n",
       "      <td>0.00</td>\n",
       "      <td>138.0</td>\n",
       "      <td>8.0</td>\n",
       "      <td>1.0</td>\n",
       "    </tr>\n",
       "    <tr>\n",
       "      <th>1</th>\n",
       "      <td>16.0</td>\n",
       "      <td>AUG</td>\n",
       "      <td>5.769231</td>\n",
       "      <td>0.890625</td>\n",
       "      <td>0.602941</td>\n",
       "      <td>0.500000</td>\n",
       "      <td>6.411765</td>\n",
       "      <td>12399.640039</td>\n",
       "      <td>640.0</td>\n",
       "      <td>0.0</td>\n",
       "      <td>...</td>\n",
       "      <td>31.24</td>\n",
       "      <td>1.0</td>\n",
       "      <td>1.00</td>\n",
       "      <td>7.4</td>\n",
       "      <td>0.0</td>\n",
       "      <td>10.69</td>\n",
       "      <td>0.29</td>\n",
       "      <td>216.0</td>\n",
       "      <td>8.0</td>\n",
       "      <td>1.0</td>\n",
       "    </tr>\n",
       "  </tbody>\n",
       "</table>\n",
       "<p>2 rows × 21 columns</p>\n",
       "</div>"
      ],
      "text/plain": [
       "   store_number month  Age_Band_Ratio  Gender_Ratio  HomeOwner_Ratio  \\\n",
       "0          16.0   APR        5.607143      0.619048         0.714286   \n",
       "1          16.0   AUG        5.769231      0.890625         0.602941   \n",
       "\n",
       "   Child_Ratio  Income_Ratio   Sales_Price  Sales_Quantity  Policy_Change  \\\n",
       "0     0.678571      6.107143   6742.280023           327.0            0.0   \n",
       "1     0.500000      6.411765  12399.640039           640.0            0.0   \n",
       "\n",
       "          ...          store_average_price  sa_gender  sa_full_time  \\\n",
       "0         ...                        32.91        1.0          0.67   \n",
       "1         ...                        31.24        1.0          1.00   \n",
       "\n",
       "   sa_avg_years_of_exp  sa_married  sa_avg_rate_of_pay  sa_dependent  \\\n",
       "0                  1.0         0.0               10.67          0.00   \n",
       "1                  7.4         0.0               10.69          0.29   \n",
       "\n",
       "   store_number_of_skus  Brand_number  sales_volume_group  \n",
       "0                 138.0           8.0                 1.0  \n",
       "1                 216.0           8.0                 1.0  \n",
       "\n",
       "[2 rows x 21 columns]"
      ]
     },
     "execution_count": 21,
     "metadata": {},
     "output_type": "execute_result"
    }
   ],
   "source": [
    "q2_final.head(2)"
   ]
  },
  {
   "cell_type": "code",
   "execution_count": 22,
   "metadata": {
    "collapsed": true
   },
   "outputs": [],
   "source": [
    "q2_final.to_csv(\"M_q2.csv\")"
   ]
  },
  {
   "cell_type": "markdown",
   "metadata": {},
   "source": [
    "### Question 3. What is the impact of the policy change on online channel returns? \n",
    "                 DataFrame q3_final"
   ]
  },
  {
   "cell_type": "code",
   "execution_count": 23,
   "metadata": {
    "collapsed": true
   },
   "outputs": [],
   "source": [
    "# Q3 part 1\n",
    "q3 = py_sql(\"SELECT store_number, month,\\\n",
    "                sum(case when gender in ('F') then 1 else 0 end) as Female, \\\n",
    "                sum(case when gender in ('M','F') then 1 else 0 end) as Total_Female, \\\n",
    "                avg(age_band) as Age_Band_Ratio, \\\n",
    "                sum(case when homeowner_code = 'O' then 1 else 0 end) as HomeOwner, \\\n",
    "                sum(case when homeowner_code in ('O','R') then 1 else 0 end) as Total_Homeowner, \\\n",
    "                sum(case when child = 'Y' then 1 else 0 end) as Child, \\\n",
    "                sum(case when child in ('Y','N') then 1 else 0 end) as Total_Child, \\\n",
    "                avg(est_income_code) as Income_Ratio, \\\n",
    "                sum(net_purchase_amount) as return_amount, \\\n",
    "                count(*) as return_quantity, \\\n",
    "                (case when month_index > 50 then 1 else 0 end) as Policy_Change  \\\n",
    "                FROM trans_p \\\n",
    "                GROUP BY store_number, month ;\")"
   ]
  },
  {
   "cell_type": "code",
   "execution_count": 24,
   "metadata": {
    "collapsed": false
   },
   "outputs": [
    {
     "data": {
      "text/html": [
       "<div>\n",
       "<table border=\"1\" class=\"dataframe\">\n",
       "  <thead>\n",
       "    <tr style=\"text-align: right;\">\n",
       "      <th></th>\n",
       "      <th>store_number</th>\n",
       "      <th>month</th>\n",
       "      <th>Female</th>\n",
       "      <th>Total_Female</th>\n",
       "      <th>Age_Band_Ratio</th>\n",
       "      <th>HomeOwner</th>\n",
       "      <th>Total_Homeowner</th>\n",
       "      <th>Child</th>\n",
       "      <th>Total_Child</th>\n",
       "      <th>Income_Ratio</th>\n",
       "      <th>return_amount</th>\n",
       "      <th>return_quantity</th>\n",
       "      <th>Policy_Change</th>\n",
       "    </tr>\n",
       "  </thead>\n",
       "  <tbody>\n",
       "    <tr>\n",
       "      <th>0</th>\n",
       "      <td>2.0</td>\n",
       "      <td>APR</td>\n",
       "      <td>1927</td>\n",
       "      <td>3096</td>\n",
       "      <td>4.257434</td>\n",
       "      <td>2360</td>\n",
       "      <td>3750</td>\n",
       "      <td>1547</td>\n",
       "      <td>3750</td>\n",
       "      <td>5.332000</td>\n",
       "      <td>1.090199e+06</td>\n",
       "      <td>3768</td>\n",
       "      <td>0</td>\n",
       "    </tr>\n",
       "    <tr>\n",
       "      <th>1</th>\n",
       "      <td>2.0</td>\n",
       "      <td>AUG</td>\n",
       "      <td>1309</td>\n",
       "      <td>2390</td>\n",
       "      <td>3.049206</td>\n",
       "      <td>2061</td>\n",
       "      <td>3166</td>\n",
       "      <td>1294</td>\n",
       "      <td>3166</td>\n",
       "      <td>5.500316</td>\n",
       "      <td>9.765532e+05</td>\n",
       "      <td>3211</td>\n",
       "      <td>0</td>\n",
       "    </tr>\n",
       "  </tbody>\n",
       "</table>\n",
       "</div>"
      ],
      "text/plain": [
       "   store_number month  Female  Total_Female  Age_Band_Ratio  HomeOwner  \\\n",
       "0           2.0   APR    1927          3096        4.257434       2360   \n",
       "1           2.0   AUG    1309          2390        3.049206       2061   \n",
       "\n",
       "   Total_Homeowner  Child  Total_Child  Income_Ratio  return_amount  \\\n",
       "0             3750   1547         3750      5.332000   1.090199e+06   \n",
       "1             3166   1294         3166      5.500316   9.765532e+05   \n",
       "\n",
       "   return_quantity  Policy_Change  \n",
       "0             3768              0  \n",
       "1             3211              0  "
      ]
     },
     "execution_count": 24,
     "metadata": {},
     "output_type": "execute_result"
    }
   ],
   "source": [
    "q3.head(2)"
   ]
  },
  {
   "cell_type": "code",
   "execution_count": 25,
   "metadata": {
    "collapsed": true
   },
   "outputs": [],
   "source": [
    "# Q3 part 2\n",
    "q31 = py_sql(\"SELECT store_number, month, \\\n",
    "                 Age_Band_Ratio, \\\n",
    "                Female / Total_Female as Gender_Ratio, \\\n",
    "                HomeOwner / Total_Homeowner as HomeOwner_Ratio, \\\n",
    "                Child / Total_Child as Child_Ratio, \\\n",
    "                Income_Ratio, \\\n",
    "                return_amount, \\\n",
    "                return_quantity, \\\n",
    "                Policy_Change,  \\\n",
    "               (case when store_number in (2,6) then 1 else 0 end ) as Treatment \\\n",
    "                FROM q3 \\\n",
    "                WHERE store_number = 2 or store_number = 6 or store_number = 10 \\\n",
    "                GROUP BY store_number, month;\")"
   ]
  },
  {
   "cell_type": "code",
   "execution_count": 26,
   "metadata": {
    "collapsed": false
   },
   "outputs": [
    {
     "data": {
      "text/html": [
       "<div>\n",
       "<table border=\"1\" class=\"dataframe\">\n",
       "  <thead>\n",
       "    <tr style=\"text-align: right;\">\n",
       "      <th></th>\n",
       "      <th>store_number</th>\n",
       "      <th>month</th>\n",
       "      <th>Age_Band_Ratio</th>\n",
       "      <th>Gender_Ratio</th>\n",
       "      <th>HomeOwner_Ratio</th>\n",
       "      <th>Child_Ratio</th>\n",
       "      <th>Income_Ratio</th>\n",
       "      <th>return_amount</th>\n",
       "      <th>return_quantity</th>\n",
       "      <th>Policy_Change</th>\n",
       "      <th>Treatment</th>\n",
       "    </tr>\n",
       "  </thead>\n",
       "  <tbody>\n",
       "    <tr>\n",
       "      <th>0</th>\n",
       "      <td>2.0</td>\n",
       "      <td>APR</td>\n",
       "      <td>4.257434</td>\n",
       "      <td>0.622416</td>\n",
       "      <td>0.629333</td>\n",
       "      <td>0.412533</td>\n",
       "      <td>5.332000</td>\n",
       "      <td>1.090199e+06</td>\n",
       "      <td>3768.0</td>\n",
       "      <td>0.0</td>\n",
       "      <td>1</td>\n",
       "    </tr>\n",
       "    <tr>\n",
       "      <th>1</th>\n",
       "      <td>2.0</td>\n",
       "      <td>AUG</td>\n",
       "      <td>3.049206</td>\n",
       "      <td>0.547699</td>\n",
       "      <td>0.650979</td>\n",
       "      <td>0.408718</td>\n",
       "      <td>5.500316</td>\n",
       "      <td>9.765532e+05</td>\n",
       "      <td>3211.0</td>\n",
       "      <td>0.0</td>\n",
       "      <td>1</td>\n",
       "    </tr>\n",
       "  </tbody>\n",
       "</table>\n",
       "</div>"
      ],
      "text/plain": [
       "   store_number month  Age_Band_Ratio  Gender_Ratio  HomeOwner_Ratio  \\\n",
       "0           2.0   APR        4.257434      0.622416         0.629333   \n",
       "1           2.0   AUG        3.049206      0.547699         0.650979   \n",
       "\n",
       "   Child_Ratio  Income_Ratio  return_amount  return_quantity  Policy_Change  \\\n",
       "0     0.412533      5.332000   1.090199e+06           3768.0            0.0   \n",
       "1     0.408718      5.500316   9.765532e+05           3211.0            0.0   \n",
       "\n",
       "   Treatment  \n",
       "0          1  \n",
       "1          1  "
      ]
     },
     "execution_count": 26,
     "metadata": {},
     "output_type": "execute_result"
    }
   ],
   "source": [
    "q31.head(2)"
   ]
  },
  {
   "cell_type": "code",
   "execution_count": 27,
   "metadata": {
    "collapsed": true
   },
   "outputs": [],
   "source": [
    "q31['Sales_Price'] = q11['Sales_Price']\n",
    "q31['Sales_Quantity'] = q11['Sales_Quantity']"
   ]
  },
  {
   "cell_type": "code",
   "execution_count": 28,
   "metadata": {
    "collapsed": false
   },
   "outputs": [
    {
     "data": {
      "text/html": [
       "<div>\n",
       "<table border=\"1\" class=\"dataframe\">\n",
       "  <thead>\n",
       "    <tr style=\"text-align: right;\">\n",
       "      <th></th>\n",
       "      <th>store_number</th>\n",
       "      <th>month</th>\n",
       "      <th>Age_Band_Ratio</th>\n",
       "      <th>Gender_Ratio</th>\n",
       "      <th>HomeOwner_Ratio</th>\n",
       "      <th>Child_Ratio</th>\n",
       "      <th>Income_Ratio</th>\n",
       "      <th>return_amount</th>\n",
       "      <th>return_quantity</th>\n",
       "      <th>Policy_Change</th>\n",
       "      <th>Treatment</th>\n",
       "      <th>Sales_Price</th>\n",
       "      <th>Sales_Quantity</th>\n",
       "    </tr>\n",
       "  </thead>\n",
       "  <tbody>\n",
       "    <tr>\n",
       "      <th>0</th>\n",
       "      <td>2.0</td>\n",
       "      <td>APR</td>\n",
       "      <td>4.257434</td>\n",
       "      <td>0.622416</td>\n",
       "      <td>0.629333</td>\n",
       "      <td>0.412533</td>\n",
       "      <td>5.332000</td>\n",
       "      <td>1.090199e+06</td>\n",
       "      <td>3768.0</td>\n",
       "      <td>0.0</td>\n",
       "      <td>1</td>\n",
       "      <td>6.620615e+06</td>\n",
       "      <td>43417.0</td>\n",
       "    </tr>\n",
       "    <tr>\n",
       "      <th>1</th>\n",
       "      <td>2.0</td>\n",
       "      <td>AUG</td>\n",
       "      <td>3.049206</td>\n",
       "      <td>0.547699</td>\n",
       "      <td>0.650979</td>\n",
       "      <td>0.408718</td>\n",
       "      <td>5.500316</td>\n",
       "      <td>9.765532e+05</td>\n",
       "      <td>3211.0</td>\n",
       "      <td>0.0</td>\n",
       "      <td>1</td>\n",
       "      <td>5.688315e+06</td>\n",
       "      <td>29338.0</td>\n",
       "    </tr>\n",
       "  </tbody>\n",
       "</table>\n",
       "</div>"
      ],
      "text/plain": [
       "   store_number month  Age_Band_Ratio  Gender_Ratio  HomeOwner_Ratio  \\\n",
       "0           2.0   APR        4.257434      0.622416         0.629333   \n",
       "1           2.0   AUG        3.049206      0.547699         0.650979   \n",
       "\n",
       "   Child_Ratio  Income_Ratio  return_amount  return_quantity  Policy_Change  \\\n",
       "0     0.412533      5.332000   1.090199e+06           3768.0            0.0   \n",
       "1     0.408718      5.500316   9.765532e+05           3211.0            0.0   \n",
       "\n",
       "   Treatment   Sales_Price  Sales_Quantity  \n",
       "0          1  6.620615e+06         43417.0  \n",
       "1          1  5.688315e+06         29338.0  "
      ]
     },
     "execution_count": 28,
     "metadata": {},
     "output_type": "execute_result"
    }
   ],
   "source": [
    "q31.head(2)"
   ]
  },
  {
   "cell_type": "code",
   "execution_count": 29,
   "metadata": {
    "collapsed": false
   },
   "outputs": [],
   "source": [
    "#Q3 Final\n",
    "q3_final = py_sql(\"SELECT td.*, st.store_number_of_skus \\\n",
    "                   FROM q31 td \\\n",
    "                   INNER JOIN store st \\\n",
    "                   ON td.store_number = st.store_number \\\n",
    "                   AND td.month = st.month;\")"
   ]
  },
  {
   "cell_type": "code",
   "execution_count": 30,
   "metadata": {
    "collapsed": false
   },
   "outputs": [],
   "source": [
    "q3_final.to_csv('M_q3.csv')"
   ]
  },
  {
   "cell_type": "markdown",
   "metadata": {},
   "source": [
    "### Q.4 What is the impact of the policy change on physical store returns? "
   ]
  },
  {
   "cell_type": "code",
   "execution_count": 31,
   "metadata": {
    "collapsed": true
   },
   "outputs": [],
   "source": [
    "# Q4 part 1\n",
    "q4 = py_sql(\"SELECT store_number, month, Brand_number, \\\n",
    "                sum(case when gender in ('F') then 1 else 0 end) as Female, \\\n",
    "                sum(case when gender in ('M','F') then 1 else 0 end) as Total_Female, \\\n",
    "                avg(age_band) as Age_Band_Ratio, \\\n",
    "                sum(case when homeowner_code = 'O' then 1 else 0 end) as HomeOwner, \\\n",
    "                sum(case when homeowner_code in ('O','R') then 1 else 0 end) as Total_Homeowner, \\\n",
    "                sum(case when child = 'Y' then 1 else 0 end) as Child, \\\n",
    "                sum(case when child in ('Y','N') then 1 else 0 end) as Total_Child, \\\n",
    "                avg(est_income_code) as Income_Ratio, \\\n",
    "                sum(net_purchase_amount) as return_amount, \\\n",
    "                count(*) as return_quantity, \\\n",
    "                (case when month_index > 50 then 1 else 0 end) as Policy_Change  \\\n",
    "                FROM trans_p \\\n",
    "                GROUP BY store_number, month ;\")"
   ]
  },
  {
   "cell_type": "code",
   "execution_count": 32,
   "metadata": {
    "collapsed": false
   },
   "outputs": [
    {
     "data": {
      "text/html": [
       "<div>\n",
       "<table border=\"1\" class=\"dataframe\">\n",
       "  <thead>\n",
       "    <tr style=\"text-align: right;\">\n",
       "      <th></th>\n",
       "      <th>store_number</th>\n",
       "      <th>month</th>\n",
       "      <th>Brand_number</th>\n",
       "      <th>Female</th>\n",
       "      <th>Total_Female</th>\n",
       "      <th>Age_Band_Ratio</th>\n",
       "      <th>HomeOwner</th>\n",
       "      <th>Total_Homeowner</th>\n",
       "      <th>Child</th>\n",
       "      <th>Total_Child</th>\n",
       "      <th>Income_Ratio</th>\n",
       "      <th>return_amount</th>\n",
       "      <th>return_quantity</th>\n",
       "      <th>Policy_Change</th>\n",
       "    </tr>\n",
       "  </thead>\n",
       "  <tbody>\n",
       "    <tr>\n",
       "      <th>0</th>\n",
       "      <td>2.0</td>\n",
       "      <td>APR</td>\n",
       "      <td>1.0</td>\n",
       "      <td>1927</td>\n",
       "      <td>3096</td>\n",
       "      <td>4.257434</td>\n",
       "      <td>2360</td>\n",
       "      <td>3750</td>\n",
       "      <td>1547</td>\n",
       "      <td>3750</td>\n",
       "      <td>5.332000</td>\n",
       "      <td>1.090199e+06</td>\n",
       "      <td>3768</td>\n",
       "      <td>0</td>\n",
       "    </tr>\n",
       "    <tr>\n",
       "      <th>1</th>\n",
       "      <td>2.0</td>\n",
       "      <td>AUG</td>\n",
       "      <td>1.0</td>\n",
       "      <td>1309</td>\n",
       "      <td>2390</td>\n",
       "      <td>3.049206</td>\n",
       "      <td>2061</td>\n",
       "      <td>3166</td>\n",
       "      <td>1294</td>\n",
       "      <td>3166</td>\n",
       "      <td>5.500316</td>\n",
       "      <td>9.765532e+05</td>\n",
       "      <td>3211</td>\n",
       "      <td>0</td>\n",
       "    </tr>\n",
       "  </tbody>\n",
       "</table>\n",
       "</div>"
      ],
      "text/plain": [
       "   store_number month  Brand_number  Female  Total_Female  Age_Band_Ratio  \\\n",
       "0           2.0   APR           1.0    1927          3096        4.257434   \n",
       "1           2.0   AUG           1.0    1309          2390        3.049206   \n",
       "\n",
       "   HomeOwner  Total_Homeowner  Child  Total_Child  Income_Ratio  \\\n",
       "0       2360             3750   1547         3750      5.332000   \n",
       "1       2061             3166   1294         3166      5.500316   \n",
       "\n",
       "   return_amount  return_quantity  Policy_Change  \n",
       "0   1.090199e+06             3768              0  \n",
       "1   9.765532e+05             3211              0  "
      ]
     },
     "execution_count": 32,
     "metadata": {},
     "output_type": "execute_result"
    }
   ],
   "source": [
    "q4.head(2)"
   ]
  },
  {
   "cell_type": "code",
   "execution_count": 33,
   "metadata": {
    "collapsed": true
   },
   "outputs": [],
   "source": [
    "# Q4 part 2\n",
    "q41 = py_sql(\"SELECT store_number, month, Brand_number \\\n",
    "                     Age_Band_Ratio, \\\n",
    "                     Female / Total_Female as Gender_Ratio, \\\n",
    "                     HomeOwner / Total_Homeowner as HomeOwner_Ratio, \\\n",
    "                     Child / Total_Child as Child_Ratio, \\\n",
    "                     Income_Ratio, \\\n",
    "                     return_amount, \\\n",
    "                     return_quantity, \\\n",
    "                     Policy_Change,  \\\n",
    "                     (case when Brand_number in (2,3,5) then 1 else 0 end ) as Treatment \\\n",
    "              FROM q4 \\\n",
    "              WHERE store_number not in (2,6,10) \\\n",
    "              GROUP BY store_number, month;\")"
   ]
  },
  {
   "cell_type": "code",
   "execution_count": 34,
   "metadata": {
    "collapsed": true
   },
   "outputs": [],
   "source": [
    "q41['Sales_Price'] = q21['Sales_Price']\n",
    "q41['Sales_Quantity'] = q21['Sales_Quantity']"
   ]
  },
  {
   "cell_type": "code",
   "execution_count": 35,
   "metadata": {
    "collapsed": false
   },
   "outputs": [
    {
     "data": {
      "text/html": [
       "<div>\n",
       "<table border=\"1\" class=\"dataframe\">\n",
       "  <thead>\n",
       "    <tr style=\"text-align: right;\">\n",
       "      <th></th>\n",
       "      <th>store_number</th>\n",
       "      <th>month</th>\n",
       "      <th>Age_Band_Ratio</th>\n",
       "      <th>Gender_Ratio</th>\n",
       "      <th>HomeOwner_Ratio</th>\n",
       "      <th>Child_Ratio</th>\n",
       "      <th>Income_Ratio</th>\n",
       "      <th>return_amount</th>\n",
       "      <th>return_quantity</th>\n",
       "      <th>Policy_Change</th>\n",
       "      <th>Treatment</th>\n",
       "      <th>Sales_Price</th>\n",
       "      <th>Sales_Quantity</th>\n",
       "    </tr>\n",
       "  </thead>\n",
       "  <tbody>\n",
       "    <tr>\n",
       "      <th>0</th>\n",
       "      <td>15.0</td>\n",
       "      <td>APR</td>\n",
       "      <td>8.0</td>\n",
       "      <td>1.0</td>\n",
       "      <td>0.666667</td>\n",
       "      <td>0.333333</td>\n",
       "      <td>2.666667</td>\n",
       "      <td>1172.440036</td>\n",
       "      <td>26.0</td>\n",
       "      <td>0.0</td>\n",
       "      <td>0</td>\n",
       "      <td>7398.890057</td>\n",
       "      <td>335.0</td>\n",
       "    </tr>\n",
       "    <tr>\n",
       "      <th>1</th>\n",
       "      <td>15.0</td>\n",
       "      <td>AUG</td>\n",
       "      <td>8.0</td>\n",
       "      <td>NaN</td>\n",
       "      <td>NaN</td>\n",
       "      <td>NaN</td>\n",
       "      <td>NaN</td>\n",
       "      <td>2338.850041</td>\n",
       "      <td>44.0</td>\n",
       "      <td>0.0</td>\n",
       "      <td>0</td>\n",
       "      <td>11418.600079</td>\n",
       "      <td>526.0</td>\n",
       "    </tr>\n",
       "  </tbody>\n",
       "</table>\n",
       "</div>"
      ],
      "text/plain": [
       "   store_number month  Age_Band_Ratio  Gender_Ratio  HomeOwner_Ratio  \\\n",
       "0          15.0   APR             8.0           1.0         0.666667   \n",
       "1          15.0   AUG             8.0           NaN              NaN   \n",
       "\n",
       "   Child_Ratio  Income_Ratio  return_amount  return_quantity  Policy_Change  \\\n",
       "0     0.333333      2.666667    1172.440036             26.0            0.0   \n",
       "1          NaN           NaN    2338.850041             44.0            0.0   \n",
       "\n",
       "   Treatment   Sales_Price  Sales_Quantity  \n",
       "0          0   7398.890057           335.0  \n",
       "1          0  11418.600079           526.0  "
      ]
     },
     "execution_count": 35,
     "metadata": {},
     "output_type": "execute_result"
    }
   ],
   "source": [
    "q41.head(2)"
   ]
  },
  {
   "cell_type": "code",
   "execution_count": 36,
   "metadata": {
    "collapsed": true
   },
   "outputs": [],
   "source": [
    "#Q4 Final\n",
    "q4_final = py_sql(\"SELECT td.*, st.store_average_price, st.sa_gender, st.sa_full_time, \\\n",
    "                          st.sa_avg_years_of_exp, st.sa_married, st.sa_avg_rate_of_pay, st.sa_dependent, \\\n",
    "                          st.store_number_of_skus, st.Brand_number, st.sales_volume_group \\\n",
    "                   FROM q41 td \\\n",
    "                   INNER JOIN store st \\\n",
    "                   ON td.store_number = st.store_number \\\n",
    "                   AND td.month = st.month;\")"
   ]
  },
  {
   "cell_type": "code",
   "execution_count": 37,
   "metadata": {
    "collapsed": false
   },
   "outputs": [
    {
     "data": {
      "text/html": [
       "<div>\n",
       "<table border=\"1\" class=\"dataframe\">\n",
       "  <thead>\n",
       "    <tr style=\"text-align: right;\">\n",
       "      <th></th>\n",
       "      <th>store_number</th>\n",
       "      <th>month</th>\n",
       "      <th>Age_Band_Ratio</th>\n",
       "      <th>Gender_Ratio</th>\n",
       "      <th>HomeOwner_Ratio</th>\n",
       "      <th>Child_Ratio</th>\n",
       "      <th>Income_Ratio</th>\n",
       "      <th>return_amount</th>\n",
       "      <th>return_quantity</th>\n",
       "      <th>Policy_Change</th>\n",
       "      <th>...</th>\n",
       "      <th>store_average_price</th>\n",
       "      <th>sa_gender</th>\n",
       "      <th>sa_full_time</th>\n",
       "      <th>sa_avg_years_of_exp</th>\n",
       "      <th>sa_married</th>\n",
       "      <th>sa_avg_rate_of_pay</th>\n",
       "      <th>sa_dependent</th>\n",
       "      <th>store_number_of_skus</th>\n",
       "      <th>Brand_number</th>\n",
       "      <th>sales_volume_group</th>\n",
       "    </tr>\n",
       "  </thead>\n",
       "  <tbody>\n",
       "    <tr>\n",
       "      <th>0</th>\n",
       "      <td>16.0</td>\n",
       "      <td>APR</td>\n",
       "      <td>8.0</td>\n",
       "      <td>0.375</td>\n",
       "      <td>0.875</td>\n",
       "      <td>0.500</td>\n",
       "      <td>7.250</td>\n",
       "      <td>789.940009</td>\n",
       "      <td>30.0</td>\n",
       "      <td>0.0</td>\n",
       "      <td>...</td>\n",
       "      <td>32.91</td>\n",
       "      <td>1.0</td>\n",
       "      <td>0.67</td>\n",
       "      <td>1.0</td>\n",
       "      <td>0.0</td>\n",
       "      <td>10.67</td>\n",
       "      <td>0.00</td>\n",
       "      <td>138.0</td>\n",
       "      <td>8.0</td>\n",
       "      <td>1.0</td>\n",
       "    </tr>\n",
       "    <tr>\n",
       "      <th>1</th>\n",
       "      <td>16.0</td>\n",
       "      <td>AUG</td>\n",
       "      <td>8.0</td>\n",
       "      <td>1.000</td>\n",
       "      <td>0.250</td>\n",
       "      <td>0.125</td>\n",
       "      <td>7.125</td>\n",
       "      <td>1101.579995</td>\n",
       "      <td>35.0</td>\n",
       "      <td>0.0</td>\n",
       "      <td>...</td>\n",
       "      <td>31.24</td>\n",
       "      <td>1.0</td>\n",
       "      <td>1.00</td>\n",
       "      <td>7.4</td>\n",
       "      <td>0.0</td>\n",
       "      <td>10.69</td>\n",
       "      <td>0.29</td>\n",
       "      <td>216.0</td>\n",
       "      <td>8.0</td>\n",
       "      <td>1.0</td>\n",
       "    </tr>\n",
       "  </tbody>\n",
       "</table>\n",
       "<p>2 rows × 23 columns</p>\n",
       "</div>"
      ],
      "text/plain": [
       "   store_number month  Age_Band_Ratio  Gender_Ratio  HomeOwner_Ratio  \\\n",
       "0          16.0   APR             8.0         0.375            0.875   \n",
       "1          16.0   AUG             8.0         1.000            0.250   \n",
       "\n",
       "   Child_Ratio  Income_Ratio  return_amount  return_quantity  Policy_Change  \\\n",
       "0        0.500         7.250     789.940009             30.0            0.0   \n",
       "1        0.125         7.125    1101.579995             35.0            0.0   \n",
       "\n",
       "          ...          store_average_price  sa_gender  sa_full_time  \\\n",
       "0         ...                        32.91        1.0          0.67   \n",
       "1         ...                        31.24        1.0          1.00   \n",
       "\n",
       "   sa_avg_years_of_exp  sa_married  sa_avg_rate_of_pay  sa_dependent  \\\n",
       "0                  1.0         0.0               10.67          0.00   \n",
       "1                  7.4         0.0               10.69          0.29   \n",
       "\n",
       "   store_number_of_skus  Brand_number  sales_volume_group  \n",
       "0                 138.0           8.0                 1.0  \n",
       "1                 216.0           8.0                 1.0  \n",
       "\n",
       "[2 rows x 23 columns]"
      ]
     },
     "execution_count": 37,
     "metadata": {},
     "output_type": "execute_result"
    }
   ],
   "source": [
    "q4_final.head(2)"
   ]
  },
  {
   "cell_type": "code",
   "execution_count": 38,
   "metadata": {
    "collapsed": false
   },
   "outputs": [
    {
     "data": {
      "text/plain": [
       "Index([u'store_number', u'month', u'Age_Band_Ratio', u'Gender_Ratio',\n",
       "       u'HomeOwner_Ratio', u'Child_Ratio', u'Income_Ratio', u'return_amount',\n",
       "       u'return_quantity', u'Policy_Change', u'Treatment', u'Sales_Price',\n",
       "       u'Sales_Quantity', u'store_average_price', u'sa_gender',\n",
       "       u'sa_full_time', u'sa_avg_years_of_exp', u'sa_married',\n",
       "       u'sa_avg_rate_of_pay', u'sa_dependent', u'store_number_of_skus',\n",
       "       u'Brand_number', u'sales_volume_group'],\n",
       "      dtype='object')"
      ]
     },
     "execution_count": 38,
     "metadata": {},
     "output_type": "execute_result"
    }
   ],
   "source": [
    "q4_final.columns"
   ]
  },
  {
   "cell_type": "code",
   "execution_count": 39,
   "metadata": {
    "collapsed": true
   },
   "outputs": [],
   "source": [
    "q4_final.to_csv('M_q4.csv')"
   ]
  },
  {
   "cell_type": "markdown",
   "metadata": {},
   "source": [
    "### Question 5. What is the impact of the policy change on customers purchase behavior?\n",
    "#### Two DataFrames one for Online Store q5_final_online and other for Physical Store"
   ]
  },
  {
   "cell_type": "markdown",
   "metadata": {},
   "source": [
    "### ONLINE STORE"
   ]
  },
  {
   "cell_type": "code",
   "execution_count": 40,
   "metadata": {
    "collapsed": false
   },
   "outputs": [],
   "source": [
    "q5_online = py_sql(\"SELECT * from trans where store_number in (2,6,10)\")"
   ]
  },
  {
   "cell_type": "code",
   "execution_count": 41,
   "metadata": {
    "collapsed": true
   },
   "outputs": [],
   "source": [
    "# Data Cleansing\n",
    "q5_online['customer_id2'] = q5_online.customer_id.astype(int).astype(str)\n",
    "q5_online['store_number2'] = q5_online.store_number.astype(int).astype(str)"
   ]
  },
  {
   "cell_type": "code",
   "execution_count": 42,
   "metadata": {
    "collapsed": false
   },
   "outputs": [
    {
     "data": {
      "text/plain": [
       "399960"
      ]
     },
     "execution_count": 42,
     "metadata": {},
     "output_type": "execute_result"
    }
   ],
   "source": [
    "q5_online['customer_id'].nunique()"
   ]
  },
  {
   "cell_type": "code",
   "execution_count": 43,
   "metadata": {
    "collapsed": false
   },
   "outputs": [],
   "source": [
    "q5_online_treat = py_sql(\"SELECT *, \\\n",
    "                                (case when month_index > 50 then 1 else 0 end) as Policy_Change, \\\n",
    "                                (case when store_number2 in ('2','6') then 1 else 0 end) as Treatment \\\n",
    "                      FROM q5_online \\\n",
    "                      WHERE store_number2 in ('2','6') \\\n",
    "                      AND customer_id2 in \\\n",
    "                      (                    \\\n",
    "                         SELECT DISTINCT customer_id2 \\\n",
    "                         FROM q5_online \\\n",
    "                         WHERE month_index > 50 \\\n",
    "                         AND store_number2 in ('2','6') \\\n",
    "                         AND customer_id2 in \\\n",
    "                         (                  \\\n",
    "                            SELECT DISTINCT customer_id2  \\\n",
    "                            FROM q5_online \\\n",
    "                            where month_index <= 50 \\\n",
    "                            AND store_number2 in ('2','6')  \\\n",
    "                         ) \\\n",
    "                       )\\\n",
    "                       AND customer_id2 not in \\\n",
    "                       (                  \\\n",
    "                           SELECT DISTINCT customer_id2 \\\n",
    "                           FROM q5_online \\\n",
    "                           WHERE month_index > 50 \\\n",
    "                           AND store_number2 in ('10') \\\n",
    "                           AND customer_id2 in \\\n",
    "                           (                  \\\n",
    "                               SELECT DISTINCT customer_id2  \\\n",
    "                               FROM q5_online \\\n",
    "                               WHERE month_index <= 50 \\\n",
    "                               AND store_number2 in ('10')  \\\n",
    "                           )\\\n",
    "                        ) \\\n",
    "                        ;\" )"
   ]
  },
  {
   "cell_type": "code",
   "execution_count": 44,
   "metadata": {
    "collapsed": true
   },
   "outputs": [],
   "source": [
    "#Data Cleansing\n",
    "q5_online_treat['Treatment'] = q5_online_treat.Treatment.astype(int).astype(str)\n",
    "q5_online_treat['Policy_Change'] = q5_online_treat.Policy_Change.astype(int).astype(str)"
   ]
  },
  {
   "cell_type": "code",
   "execution_count": 45,
   "metadata": {
    "collapsed": false
   },
   "outputs": [
    {
     "data": {
      "text/plain": [
       "10374"
      ]
     },
     "execution_count": 45,
     "metadata": {},
     "output_type": "execute_result"
    }
   ],
   "source": [
    "#Checking if the sub table has same number of customer ids\n",
    "q5_online_treat['customer_id2'].nunique()"
   ]
  },
  {
   "cell_type": "code",
   "execution_count": 46,
   "metadata": {
    "collapsed": false
   },
   "outputs": [
    {
     "data": {
      "text/plain": [
       "array(['1'], dtype=object)"
      ]
     },
     "execution_count": 46,
     "metadata": {},
     "output_type": "execute_result"
    }
   ],
   "source": [
    "q5_online_treat['Treatment'].unique()"
   ]
  },
  {
   "cell_type": "code",
   "execution_count": 47,
   "metadata": {
    "collapsed": false
   },
   "outputs": [
    {
     "data": {
      "text/html": [
       "<div>\n",
       "<table border=\"1\" class=\"dataframe\">\n",
       "  <thead>\n",
       "    <tr style=\"text-align: right;\">\n",
       "      <th></th>\n",
       "      <th>customer_id</th>\n",
       "      <th>purchase_date</th>\n",
       "      <th>transaction_id</th>\n",
       "      <th>store_number</th>\n",
       "      <th>net_purchase_amount</th>\n",
       "      <th>sku</th>\n",
       "      <th>sales_assoc_1</th>\n",
       "      <th>return</th>\n",
       "      <th>return_date</th>\n",
       "      <th>return_store</th>\n",
       "      <th>...</th>\n",
       "      <th>child</th>\n",
       "      <th>year</th>\n",
       "      <th>month</th>\n",
       "      <th>month_index</th>\n",
       "      <th>summary</th>\n",
       "      <th>Brand_number</th>\n",
       "      <th>customer_id2</th>\n",
       "      <th>store_number2</th>\n",
       "      <th>Policy_Change</th>\n",
       "      <th>Treatment</th>\n",
       "    </tr>\n",
       "  </thead>\n",
       "  <tbody>\n",
       "    <tr>\n",
       "      <th>0</th>\n",
       "      <td>4864145.0</td>\n",
       "      <td>10DEC2013:00:00:00</td>\n",
       "      <td>5051471.0</td>\n",
       "      <td>2.0</td>\n",
       "      <td>35.00</td>\n",
       "      <td>19043892.0</td>\n",
       "      <td>0.0</td>\n",
       "      <td>0.0</td>\n",
       "      <td>None</td>\n",
       "      <td>NaN</td>\n",
       "      <td>...</td>\n",
       "      <td>Y</td>\n",
       "      <td>2013.0</td>\n",
       "      <td>DEC</td>\n",
       "      <td>53.0</td>\n",
       "      <td>9.0</td>\n",
       "      <td>1.0</td>\n",
       "      <td>4864145</td>\n",
       "      <td>2</td>\n",
       "      <td>1</td>\n",
       "      <td>1</td>\n",
       "    </tr>\n",
       "    <tr>\n",
       "      <th>1</th>\n",
       "      <td>36904789.0</td>\n",
       "      <td>20JAN2014:00:00:00</td>\n",
       "      <td>5331636.0</td>\n",
       "      <td>2.0</td>\n",
       "      <td>18.75</td>\n",
       "      <td>18982363.0</td>\n",
       "      <td>0.0</td>\n",
       "      <td>0.0</td>\n",
       "      <td>None</td>\n",
       "      <td>NaN</td>\n",
       "      <td>...</td>\n",
       "      <td>Y</td>\n",
       "      <td>2014.0</td>\n",
       "      <td>JAN</td>\n",
       "      <td>54.0</td>\n",
       "      <td>9.0</td>\n",
       "      <td>1.0</td>\n",
       "      <td>36904789</td>\n",
       "      <td>2</td>\n",
       "      <td>1</td>\n",
       "      <td>1</td>\n",
       "    </tr>\n",
       "  </tbody>\n",
       "</table>\n",
       "<p>2 rows × 27 columns</p>\n",
       "</div>"
      ],
      "text/plain": [
       "   customer_id       purchase_date  transaction_id  store_number  \\\n",
       "0    4864145.0  10DEC2013:00:00:00       5051471.0           2.0   \n",
       "1   36904789.0  20JAN2014:00:00:00       5331636.0           2.0   \n",
       "\n",
       "   net_purchase_amount         sku  sales_assoc_1  return return_date  \\\n",
       "0                35.00  19043892.0            0.0     0.0        None   \n",
       "1                18.75  18982363.0            0.0     0.0        None   \n",
       "\n",
       "   return_store    ...     child    year  month  month_index summary  \\\n",
       "0           NaN    ...         Y  2013.0    DEC         53.0     9.0   \n",
       "1           NaN    ...         Y  2014.0    JAN         54.0     9.0   \n",
       "\n",
       "  Brand_number  customer_id2 store_number2  Policy_Change Treatment  \n",
       "0          1.0       4864145             2              1         1  \n",
       "1          1.0      36904789             2              1         1  \n",
       "\n",
       "[2 rows x 27 columns]"
      ]
     },
     "execution_count": 47,
     "metadata": {},
     "output_type": "execute_result"
    }
   ],
   "source": [
    "q5_online_treat.head(2)"
   ]
  },
  {
   "cell_type": "code",
   "execution_count": 48,
   "metadata": {
    "collapsed": true
   },
   "outputs": [],
   "source": [
    "q5_online_cont = py_sql(\"SELECT *, \\\n",
    "                                (case when month_index > 50 then 1 else 0 end) as Policy_Change, \\\n",
    "                                (case when store_number2 in ('2','6') then 1 else 0 end) as Treatment \\\n",
    "                      FROM q5_online \\\n",
    "                      WHERE store_number2  in ('10') \\\n",
    "                      AND customer_id2 in \\\n",
    "                      (                    \\\n",
    "                         SELECT DISTINCT customer_id2 \\\n",
    "                         FROM q5_online \\\n",
    "                         WHERE month_index > 50 \\\n",
    "                         AND store_number2 in ('10') \\\n",
    "                         AND customer_id2 in \\\n",
    "                         (                  \\\n",
    "                            SELECT DISTINCT customer_id2  \\\n",
    "                            FROM q5_online \\\n",
    "                            where month_index <= 50 \\\n",
    "                            AND store_number2 in ('10')  \\\n",
    "                         ) \\\n",
    "                       )\\\n",
    "                       AND customer_id2 not in \\\n",
    "                       (                  \\\n",
    "                          SELECT DISTINCT customer_id2 \\\n",
    "                          FROM q5_online \\\n",
    "                          WHERE month_index > 50 \\\n",
    "                          AND store_number2 in ('2','6') \\\n",
    "                          AND customer_id2 in \\\n",
    "                          (                  \\\n",
    "                             SELECT DISTINCT customer_id2  \\\n",
    "                             FROM q5_online \\\n",
    "                             WHERE month_index <= 50 \\\n",
    "                             AND store_number2 in ('2','6')  \\\n",
    "                          )\\\n",
    "                        ) \\\n",
    "                        ;\" )"
   ]
  },
  {
   "cell_type": "code",
   "execution_count": 49,
   "metadata": {
    "collapsed": false
   },
   "outputs": [
    {
     "data": {
      "text/plain": [
       "966"
      ]
     },
     "execution_count": 49,
     "metadata": {},
     "output_type": "execute_result"
    }
   ],
   "source": [
    "q5_online_cont['customer_id2'].nunique()"
   ]
  },
  {
   "cell_type": "code",
   "execution_count": 50,
   "metadata": {
    "collapsed": true
   },
   "outputs": [],
   "source": [
    "#Data Cleansing\n",
    "q5_online_cont['Treatment'] = q5_online_cont.Treatment.astype(int).astype(str)\n",
    "q5_online_cont['Policy_Change'] = q5_online_cont.Policy_Change.astype(int).astype(str)"
   ]
  },
  {
   "cell_type": "code",
   "execution_count": null,
   "metadata": {
    "collapsed": true
   },
   "outputs": [],
   "source": []
  },
  {
   "cell_type": "code",
   "execution_count": 51,
   "metadata": {
    "collapsed": false
   },
   "outputs": [
    {
     "data": {
      "text/html": [
       "<div>\n",
       "<table border=\"1\" class=\"dataframe\">\n",
       "  <thead>\n",
       "    <tr style=\"text-align: right;\">\n",
       "      <th></th>\n",
       "      <th>customer_id</th>\n",
       "      <th>purchase_date</th>\n",
       "      <th>transaction_id</th>\n",
       "      <th>store_number</th>\n",
       "      <th>net_purchase_amount</th>\n",
       "      <th>sku</th>\n",
       "      <th>sales_assoc_1</th>\n",
       "      <th>return</th>\n",
       "      <th>return_date</th>\n",
       "      <th>return_store</th>\n",
       "      <th>...</th>\n",
       "      <th>child</th>\n",
       "      <th>year</th>\n",
       "      <th>month</th>\n",
       "      <th>month_index</th>\n",
       "      <th>summary</th>\n",
       "      <th>Brand_number</th>\n",
       "      <th>customer_id2</th>\n",
       "      <th>store_number2</th>\n",
       "      <th>Policy_Change</th>\n",
       "      <th>Treatment</th>\n",
       "    </tr>\n",
       "  </thead>\n",
       "  <tbody>\n",
       "    <tr>\n",
       "      <th>0</th>\n",
       "      <td>37841418.0</td>\n",
       "      <td>04JUN2013:00:00:00</td>\n",
       "      <td>4607226.0</td>\n",
       "      <td>10.0</td>\n",
       "      <td>5.99</td>\n",
       "      <td>17613712.0</td>\n",
       "      <td>0.0</td>\n",
       "      <td>0.0</td>\n",
       "      <td>None</td>\n",
       "      <td>NaN</td>\n",
       "      <td>...</td>\n",
       "      <td>None</td>\n",
       "      <td>2013.0</td>\n",
       "      <td>JUN</td>\n",
       "      <td>47.0</td>\n",
       "      <td>16.0</td>\n",
       "      <td>1.0</td>\n",
       "      <td>37841418</td>\n",
       "      <td>10</td>\n",
       "      <td>0</td>\n",
       "      <td>0</td>\n",
       "    </tr>\n",
       "    <tr>\n",
       "      <th>1</th>\n",
       "      <td>31619161.0</td>\n",
       "      <td>26SEP2013:00:00:00</td>\n",
       "      <td>4797609.0</td>\n",
       "      <td>10.0</td>\n",
       "      <td>11.49</td>\n",
       "      <td>18590133.0</td>\n",
       "      <td>0.0</td>\n",
       "      <td>0.0</td>\n",
       "      <td>None</td>\n",
       "      <td>NaN</td>\n",
       "      <td>...</td>\n",
       "      <td>None</td>\n",
       "      <td>2013.0</td>\n",
       "      <td>SEP</td>\n",
       "      <td>50.0</td>\n",
       "      <td>21.0</td>\n",
       "      <td>1.0</td>\n",
       "      <td>31619161</td>\n",
       "      <td>10</td>\n",
       "      <td>0</td>\n",
       "      <td>0</td>\n",
       "    </tr>\n",
       "  </tbody>\n",
       "</table>\n",
       "<p>2 rows × 27 columns</p>\n",
       "</div>"
      ],
      "text/plain": [
       "   customer_id       purchase_date  transaction_id  store_number  \\\n",
       "0   37841418.0  04JUN2013:00:00:00       4607226.0          10.0   \n",
       "1   31619161.0  26SEP2013:00:00:00       4797609.0          10.0   \n",
       "\n",
       "   net_purchase_amount         sku  sales_assoc_1  return return_date  \\\n",
       "0                 5.99  17613712.0            0.0     0.0        None   \n",
       "1                11.49  18590133.0            0.0     0.0        None   \n",
       "\n",
       "   return_store    ...     child    year  month  month_index summary  \\\n",
       "0           NaN    ...      None  2013.0    JUN         47.0    16.0   \n",
       "1           NaN    ...      None  2013.0    SEP         50.0    21.0   \n",
       "\n",
       "  Brand_number  customer_id2 store_number2  Policy_Change Treatment  \n",
       "0          1.0      37841418            10              0         0  \n",
       "1          1.0      31619161            10              0         0  \n",
       "\n",
       "[2 rows x 27 columns]"
      ]
     },
     "execution_count": 51,
     "metadata": {},
     "output_type": "execute_result"
    }
   ],
   "source": [
    "q5_online_cont.head(2)"
   ]
  },
  {
   "cell_type": "code",
   "execution_count": 52,
   "metadata": {
    "collapsed": false
   },
   "outputs": [
    {
     "data": {
      "text/plain": [
       "966"
      ]
     },
     "execution_count": 52,
     "metadata": {},
     "output_type": "execute_result"
    }
   ],
   "source": [
    "q5_online_cont['customer_id2'].nunique()"
   ]
  },
  {
   "cell_type": "code",
   "execution_count": 53,
   "metadata": {
    "collapsed": false
   },
   "outputs": [
    {
     "data": {
      "text/plain": [
       "10374"
      ]
     },
     "execution_count": 53,
     "metadata": {},
     "output_type": "execute_result"
    }
   ],
   "source": [
    "q5_online_treat['customer_id2'].nunique()"
   ]
  },
  {
   "cell_type": "code",
   "execution_count": 54,
   "metadata": {
    "collapsed": true
   },
   "outputs": [],
   "source": [
    "#Creating new dataframe for Q6 without aggregation with both Treatment and Control\n",
    "q5_without_aggregation_onl = pd.concat([q5_online_treat, q5_online_cont])"
   ]
  },
  {
   "cell_type": "code",
   "execution_count": 55,
   "metadata": {
    "collapsed": false
   },
   "outputs": [
    {
     "data": {
      "text/plain": [
       "customer_id            47564\n",
       "purchase_date          47564\n",
       "transaction_id         47564\n",
       "store_number           47564\n",
       "net_purchase_amount    47564\n",
       "sku                    47564\n",
       "sales_assoc_1          47525\n",
       "return                 47564\n",
       "return_date             5195\n",
       "return_store            5195\n",
       "time_to_return          5195\n",
       "gender                 41685\n",
       "age_band               43307\n",
       "est_income_code        43590\n",
       "ethnic_code            43669\n",
       "homeowner_code         43590\n",
       "length_of_residence    43590\n",
       "child                  43590\n",
       "year                   47564\n",
       "month                  47564\n",
       "month_index            47564\n",
       "summary                46179\n",
       "Brand_number           47564\n",
       "customer_id2           47564\n",
       "store_number2          47564\n",
       "Policy_Change          47564\n",
       "Treatment              47564\n",
       "dtype: int64"
      ]
     },
     "execution_count": 55,
     "metadata": {},
     "output_type": "execute_result"
    }
   ],
   "source": [
    "q5_without_aggregation_onl.count()"
   ]
  },
  {
   "cell_type": "code",
   "execution_count": 56,
   "metadata": {
    "collapsed": false
   },
   "outputs": [
    {
     "data": {
      "text/html": [
       "<div>\n",
       "<table border=\"1\" class=\"dataframe\">\n",
       "  <thead>\n",
       "    <tr style=\"text-align: right;\">\n",
       "      <th></th>\n",
       "      <th>customer_id</th>\n",
       "      <th>purchase_date</th>\n",
       "      <th>transaction_id</th>\n",
       "      <th>store_number</th>\n",
       "      <th>net_purchase_amount</th>\n",
       "      <th>sku</th>\n",
       "      <th>sales_assoc_1</th>\n",
       "      <th>return</th>\n",
       "      <th>return_date</th>\n",
       "      <th>return_store</th>\n",
       "      <th>...</th>\n",
       "      <th>child</th>\n",
       "      <th>year</th>\n",
       "      <th>month</th>\n",
       "      <th>month_index</th>\n",
       "      <th>summary</th>\n",
       "      <th>Brand_number</th>\n",
       "      <th>customer_id2</th>\n",
       "      <th>store_number2</th>\n",
       "      <th>Policy_Change</th>\n",
       "      <th>Treatment</th>\n",
       "    </tr>\n",
       "  </thead>\n",
       "  <tbody>\n",
       "    <tr>\n",
       "      <th>0</th>\n",
       "      <td>4864145.0</td>\n",
       "      <td>10DEC2013:00:00:00</td>\n",
       "      <td>5051471.0</td>\n",
       "      <td>2.0</td>\n",
       "      <td>35.00</td>\n",
       "      <td>19043892.0</td>\n",
       "      <td>0.0</td>\n",
       "      <td>0.0</td>\n",
       "      <td>None</td>\n",
       "      <td>NaN</td>\n",
       "      <td>...</td>\n",
       "      <td>Y</td>\n",
       "      <td>2013.0</td>\n",
       "      <td>DEC</td>\n",
       "      <td>53.0</td>\n",
       "      <td>9.0</td>\n",
       "      <td>1.0</td>\n",
       "      <td>4864145</td>\n",
       "      <td>2</td>\n",
       "      <td>1</td>\n",
       "      <td>1</td>\n",
       "    </tr>\n",
       "    <tr>\n",
       "      <th>1</th>\n",
       "      <td>36904789.0</td>\n",
       "      <td>20JAN2014:00:00:00</td>\n",
       "      <td>5331636.0</td>\n",
       "      <td>2.0</td>\n",
       "      <td>18.75</td>\n",
       "      <td>18982363.0</td>\n",
       "      <td>0.0</td>\n",
       "      <td>0.0</td>\n",
       "      <td>None</td>\n",
       "      <td>NaN</td>\n",
       "      <td>...</td>\n",
       "      <td>Y</td>\n",
       "      <td>2014.0</td>\n",
       "      <td>JAN</td>\n",
       "      <td>54.0</td>\n",
       "      <td>9.0</td>\n",
       "      <td>1.0</td>\n",
       "      <td>36904789</td>\n",
       "      <td>2</td>\n",
       "      <td>1</td>\n",
       "      <td>1</td>\n",
       "    </tr>\n",
       "  </tbody>\n",
       "</table>\n",
       "<p>2 rows × 27 columns</p>\n",
       "</div>"
      ],
      "text/plain": [
       "   customer_id       purchase_date  transaction_id  store_number  \\\n",
       "0    4864145.0  10DEC2013:00:00:00       5051471.0           2.0   \n",
       "1   36904789.0  20JAN2014:00:00:00       5331636.0           2.0   \n",
       "\n",
       "   net_purchase_amount         sku  sales_assoc_1  return return_date  \\\n",
       "0                35.00  19043892.0            0.0     0.0        None   \n",
       "1                18.75  18982363.0            0.0     0.0        None   \n",
       "\n",
       "   return_store    ...     child    year  month  month_index summary  \\\n",
       "0           NaN    ...         Y  2013.0    DEC         53.0     9.0   \n",
       "1           NaN    ...         Y  2014.0    JAN         54.0     9.0   \n",
       "\n",
       "  Brand_number  customer_id2 store_number2  Policy_Change Treatment  \n",
       "0          1.0       4864145             2              1         1  \n",
       "1          1.0      36904789             2              1         1  \n",
       "\n",
       "[2 rows x 27 columns]"
      ]
     },
     "execution_count": 56,
     "metadata": {},
     "output_type": "execute_result"
    }
   ],
   "source": [
    "q5_without_aggregation_onl.head(2)"
   ]
  },
  {
   "cell_type": "code",
   "execution_count": 57,
   "metadata": {
    "collapsed": false
   },
   "outputs": [],
   "source": [
    "q5_online_treat_1  =  py_sql(\"SELECT customer_id2, \\\n",
    "                                     round(sum(net_purchase_amount), 2) as net_purchase_amount, \\\n",
    "                                     count(*) as Sales_Quantity, \\\n",
    "                                     Policy_Change\\\n",
    "                              FROM   q5_online_treat \\\n",
    "                              GROUP  BY customer_id2, Policy_Change;\")"
   ]
  },
  {
   "cell_type": "code",
   "execution_count": 58,
   "metadata": {
    "collapsed": false
   },
   "outputs": [],
   "source": [
    "q5_online_cont_1 =  py_sql(\"SELECT customer_id2, \\\n",
    "                                     round(sum(net_purchase_amount), 2) as net_purchase_amount, \\\n",
    "                                     count(*) as Sales_Quantity, \\\n",
    "                                     Policy_Change \\\n",
    "                              FROM   q5_online_cont \\\n",
    "                              GROUP  BY customer_id2, Policy_Change;\")"
   ]
  },
  {
   "cell_type": "code",
   "execution_count": 59,
   "metadata": {
    "collapsed": false,
    "scrolled": true
   },
   "outputs": [
    {
     "data": {
      "text/plain": [
       "966"
      ]
     },
     "execution_count": 59,
     "metadata": {},
     "output_type": "execute_result"
    }
   ],
   "source": [
    "q5_online_cont_1['customer_id2'].nunique()"
   ]
  },
  {
   "cell_type": "code",
   "execution_count": 60,
   "metadata": {
    "collapsed": false
   },
   "outputs": [
    {
     "data": {
      "text/plain": [
       "10374"
      ]
     },
     "execution_count": 60,
     "metadata": {},
     "output_type": "execute_result"
    }
   ],
   "source": [
    "q5_online_treat_1['customer_id2'].nunique()"
   ]
  },
  {
   "cell_type": "code",
   "execution_count": 61,
   "metadata": {
    "collapsed": false
   },
   "outputs": [],
   "source": [
    "#Finding out customer_ids that are present in both treatment and control \n",
    "intersection_5_online = py_sql(\"SELECT distinct customer_id2 \\\n",
    "                         FROM   q5_online_treat_1 \\\n",
    "                         WHERE customer_id2 in \\\n",
    "                               (                \\\n",
    "                               SELECT distinct customer_id2 \\\n",
    "                               FROM   q5_online_cont_1 \\\n",
    "                               );\"       \n",
    "                        )"
   ]
  },
  {
   "cell_type": "code",
   "execution_count": 62,
   "metadata": {
    "collapsed": false
   },
   "outputs": [
    {
     "data": {
      "text/plain": [
       "Series([], Name: customer_id2, dtype: object)"
      ]
     },
     "execution_count": 62,
     "metadata": {},
     "output_type": "execute_result"
    }
   ],
   "source": [
    "# We should actually not get any common customer ids as this has already been taken care off in the query\n",
    "# while generating q5_online_cont\n",
    "intersection_5_online['customer_id2']"
   ]
  },
  {
   "cell_type": "code",
   "execution_count": 63,
   "metadata": {
    "collapsed": false
   },
   "outputs": [],
   "source": [
    "# just adding Treatment group to online_treat\n",
    "q5_online_treat_2 = py_sql(\"SELECT *, \\\n",
    "                           1 as Treatment \\\n",
    "                          FROM q5_online_treat_1;\")"
   ]
  },
  {
   "cell_type": "code",
   "execution_count": 64,
   "metadata": {
    "collapsed": false
   },
   "outputs": [],
   "source": [
    "# just adding Treatment group to online_cont\n",
    "q5_online_cont_2 = py_sql(\"SELECT *, \\\n",
    "                           0 as Treatment \\\n",
    "                          FROM q5_online_cont_1;\")"
   ]
  },
  {
   "cell_type": "code",
   "execution_count": 65,
   "metadata": {
    "collapsed": false
   },
   "outputs": [
    {
     "data": {
      "text/html": [
       "<div>\n",
       "<table border=\"1\" class=\"dataframe\">\n",
       "  <thead>\n",
       "    <tr style=\"text-align: right;\">\n",
       "      <th></th>\n",
       "      <th>customer_id2</th>\n",
       "      <th>net_purchase_amount</th>\n",
       "      <th>Sales_Quantity</th>\n",
       "      <th>Policy_Change</th>\n",
       "      <th>Treatment</th>\n",
       "    </tr>\n",
       "  </thead>\n",
       "  <tbody>\n",
       "    <tr>\n",
       "      <th>0</th>\n",
       "      <td>1000000001930</td>\n",
       "      <td>119.98</td>\n",
       "      <td>2.0</td>\n",
       "      <td>0</td>\n",
       "      <td>0</td>\n",
       "    </tr>\n",
       "    <tr>\n",
       "      <th>1</th>\n",
       "      <td>1000000001930</td>\n",
       "      <td>197.98</td>\n",
       "      <td>3.0</td>\n",
       "      <td>1</td>\n",
       "      <td>0</td>\n",
       "    </tr>\n",
       "  </tbody>\n",
       "</table>\n",
       "</div>"
      ],
      "text/plain": [
       "    customer_id2  net_purchase_amount  Sales_Quantity Policy_Change  Treatment\n",
       "0  1000000001930               119.98             2.0             0          0\n",
       "1  1000000001930               197.98             3.0             1          0"
      ]
     },
     "execution_count": 65,
     "metadata": {},
     "output_type": "execute_result"
    }
   ],
   "source": [
    "q5_online_cont_2.head(2)"
   ]
  },
  {
   "cell_type": "code",
   "execution_count": 66,
   "metadata": {
    "collapsed": false
   },
   "outputs": [],
   "source": [
    "#Final data frame for online stores\n",
    "q5_final_online = pd.concat([q5_online_treat_2, q5_online_cont_2])"
   ]
  },
  {
   "cell_type": "code",
   "execution_count": 67,
   "metadata": {
    "collapsed": false
   },
   "outputs": [
    {
     "data": {
      "text/plain": [
       "Policy_Change\n",
       "0    11340\n",
       "1    11340\n",
       "Name: customer_id2, dtype: int64"
      ]
     },
     "execution_count": 67,
     "metadata": {},
     "output_type": "execute_result"
    }
   ],
   "source": [
    "q5_final_online.groupby(['Policy_Change'])['customer_id2'].count()"
   ]
  },
  {
   "cell_type": "code",
   "execution_count": 68,
   "metadata": {
    "collapsed": false
   },
   "outputs": [
    {
     "data": {
      "text/html": [
       "<div>\n",
       "<table border=\"1\" class=\"dataframe\">\n",
       "  <thead>\n",
       "    <tr style=\"text-align: right;\">\n",
       "      <th></th>\n",
       "      <th>customer_id</th>\n",
       "      <th>purchase_date</th>\n",
       "      <th>transaction_id</th>\n",
       "      <th>store_number</th>\n",
       "      <th>net_purchase_amount</th>\n",
       "      <th>sku</th>\n",
       "      <th>sales_assoc_1</th>\n",
       "      <th>return</th>\n",
       "      <th>return_date</th>\n",
       "      <th>return_store</th>\n",
       "      <th>...</th>\n",
       "      <th>est_income_code</th>\n",
       "      <th>ethnic_code</th>\n",
       "      <th>homeowner_code</th>\n",
       "      <th>length_of_residence</th>\n",
       "      <th>child</th>\n",
       "      <th>year</th>\n",
       "      <th>month</th>\n",
       "      <th>month_index</th>\n",
       "      <th>summary</th>\n",
       "      <th>Brand_number</th>\n",
       "    </tr>\n",
       "  </thead>\n",
       "  <tbody>\n",
       "    <tr>\n",
       "      <th>191011</th>\n",
       "      <td>1.000000e+12</td>\n",
       "      <td>19SEP2013:00:00:00</td>\n",
       "      <td>4784180.0</td>\n",
       "      <td>2.0</td>\n",
       "      <td>32.990002</td>\n",
       "      <td>18090142.0</td>\n",
       "      <td>0.0</td>\n",
       "      <td>1.0</td>\n",
       "      <td>13OCT2013:00:00:00</td>\n",
       "      <td>2.0</td>\n",
       "      <td>...</td>\n",
       "      <td>9.0</td>\n",
       "      <td>N</td>\n",
       "      <td>O</td>\n",
       "      <td>1.0</td>\n",
       "      <td>N</td>\n",
       "      <td>2013.0</td>\n",
       "      <td>SEP</td>\n",
       "      <td>50.0</td>\n",
       "      <td>2.0</td>\n",
       "      <td>1.0</td>\n",
       "    </tr>\n",
       "    <tr>\n",
       "      <th>295400</th>\n",
       "      <td>1.000000e+12</td>\n",
       "      <td>13OCT2013:00:00:00</td>\n",
       "      <td>4821541.0</td>\n",
       "      <td>2.0</td>\n",
       "      <td>0.000000</td>\n",
       "      <td>18090142.0</td>\n",
       "      <td>0.0</td>\n",
       "      <td>0.0</td>\n",
       "      <td>NaN</td>\n",
       "      <td>NaN</td>\n",
       "      <td>...</td>\n",
       "      <td>9.0</td>\n",
       "      <td>N</td>\n",
       "      <td>O</td>\n",
       "      <td>1.0</td>\n",
       "      <td>N</td>\n",
       "      <td>2013.0</td>\n",
       "      <td>OCT</td>\n",
       "      <td>51.0</td>\n",
       "      <td>2.0</td>\n",
       "      <td>1.0</td>\n",
       "    </tr>\n",
       "  </tbody>\n",
       "</table>\n",
       "<p>2 rows × 23 columns</p>\n",
       "</div>"
      ],
      "text/plain": [
       "         customer_id       purchase_date  transaction_id  store_number  \\\n",
       "191011  1.000000e+12  19SEP2013:00:00:00       4784180.0           2.0   \n",
       "295400  1.000000e+12  13OCT2013:00:00:00       4821541.0           2.0   \n",
       "\n",
       "        net_purchase_amount         sku  sales_assoc_1  return  \\\n",
       "191011            32.990002  18090142.0            0.0     1.0   \n",
       "295400             0.000000  18090142.0            0.0     0.0   \n",
       "\n",
       "               return_date  return_store     ...       est_income_code  \\\n",
       "191011  13OCT2013:00:00:00           2.0     ...                   9.0   \n",
       "295400                 NaN           NaN     ...                   9.0   \n",
       "\n",
       "       ethnic_code  homeowner_code  length_of_residence child    year  month  \\\n",
       "191011           N               O                  1.0     N  2013.0    SEP   \n",
       "295400           N               O                  1.0     N  2013.0    OCT   \n",
       "\n",
       "       month_index  summary Brand_number  \n",
       "191011        50.0      2.0          1.0  \n",
       "295400        51.0      2.0          1.0  \n",
       "\n",
       "[2 rows x 23 columns]"
      ]
     },
     "execution_count": 68,
     "metadata": {},
     "output_type": "execute_result"
    }
   ],
   "source": [
    "q5_final_online[q5_final_online['net_purchase_amount']==0]\n",
    "trans[trans['customer_id'] == 1000000015895]"
   ]
  },
  {
   "cell_type": "code",
   "execution_count": 69,
   "metadata": {
    "collapsed": false
   },
   "outputs": [],
   "source": [
    "q5_final_online.to_csv('M_Q5_Online.csv')"
   ]
  },
  {
   "cell_type": "code",
   "execution_count": 70,
   "metadata": {
    "collapsed": false
   },
   "outputs": [
    {
     "data": {
      "text/plain": [
       "customer_id2           22680\n",
       "net_purchase_amount    22680\n",
       "Sales_Quantity         22680\n",
       "Policy_Change          22680\n",
       "Treatment              22680\n",
       "dtype: int64"
      ]
     },
     "execution_count": 70,
     "metadata": {},
     "output_type": "execute_result"
    }
   ],
   "source": [
    "q5_final_online.count()"
   ]
  },
  {
   "cell_type": "code",
   "execution_count": 71,
   "metadata": {
    "collapsed": true
   },
   "outputs": [],
   "source": [
    "online_store = py_sql(\"SELECT * from trans where store_number in (2,6,10)\")"
   ]
  },
  {
   "cell_type": "code",
   "execution_count": 72,
   "metadata": {
    "collapsed": false
   },
   "outputs": [],
   "source": [
    "online_store_1 = py_sql(\"SELECT customer_id, max(gender) as gender, max(age_band) as age_band, \\\n",
    "                              max(est_income_code) as est_income_code, \\\n",
    "                              max(ethnic_code) as ethnic_code, max(homeowner_code) as homeowner_code, \\\n",
    "                              max(length_of_residence) as length_of_residence, max(child) as child \\\n",
    "                         FROM online_store \\\n",
    "                         GROUP BY customer_id;\")"
   ]
  },
  {
   "cell_type": "code",
   "execution_count": 73,
   "metadata": {
    "collapsed": false
   },
   "outputs": [
    {
     "data": {
      "text/html": [
       "<div>\n",
       "<table border=\"1\" class=\"dataframe\">\n",
       "  <thead>\n",
       "    <tr style=\"text-align: right;\">\n",
       "      <th></th>\n",
       "      <th>customer_id</th>\n",
       "      <th>gender</th>\n",
       "      <th>age_band</th>\n",
       "      <th>est_income_code</th>\n",
       "      <th>ethnic_code</th>\n",
       "      <th>homeowner_code</th>\n",
       "      <th>length_of_residence</th>\n",
       "      <th>child</th>\n",
       "    </tr>\n",
       "  </thead>\n",
       "  <tbody>\n",
       "    <tr>\n",
       "      <th>0</th>\n",
       "      <td>100273.0</td>\n",
       "      <td>M</td>\n",
       "      <td>11.0</td>\n",
       "      <td>9.0</td>\n",
       "      <td>N</td>\n",
       "      <td>O</td>\n",
       "      <td>14.0</td>\n",
       "      <td>N</td>\n",
       "    </tr>\n",
       "    <tr>\n",
       "      <th>1</th>\n",
       "      <td>100760.0</td>\n",
       "      <td>M</td>\n",
       "      <td>0.0</td>\n",
       "      <td>6.0</td>\n",
       "      <td>Z</td>\n",
       "      <td>O</td>\n",
       "      <td>5.0</td>\n",
       "      <td>Y</td>\n",
       "    </tr>\n",
       "  </tbody>\n",
       "</table>\n",
       "</div>"
      ],
      "text/plain": [
       "   customer_id gender  age_band  est_income_code ethnic_code homeowner_code  \\\n",
       "0     100273.0      M      11.0              9.0           N              O   \n",
       "1     100760.0      M       0.0              6.0           Z              O   \n",
       "\n",
       "   length_of_residence child  \n",
       "0                 14.0     N  \n",
       "1                  5.0     Y  "
      ]
     },
     "execution_count": 73,
     "metadata": {},
     "output_type": "execute_result"
    }
   ],
   "source": [
    "online_store_1.head(2)"
   ]
  },
  {
   "cell_type": "code",
   "execution_count": 74,
   "metadata": {
    "collapsed": false
   },
   "outputs": [],
   "source": [
    "online_cust_att_final = py_sql(\"SELECT os.*, o.customer_id, o.gender, \\\n",
    "                                     o.age_band, o.est_income_code, o.ethnic_code, o.homeowner_code, \\\n",
    "                                     o.length_of_residence, o.child \\\n",
    "                              FROM   q5_final_online os   \\\n",
    "                              INNER JOIN online_store_1 o ON   \\\n",
    "                              os.customer_id2 = o.customer_id \\\n",
    "                              WHERE o.gender in ('M','F')  \\\n",
    "                              AND os.net_purchase_amount > 0;\")"
   ]
  },
  {
   "cell_type": "code",
   "execution_count": 75,
   "metadata": {
    "collapsed": false
   },
   "outputs": [
    {
     "data": {
      "text/plain": [
       "customer_id2           17721\n",
       "net_purchase_amount    17721\n",
       "Sales_Quantity         17721\n",
       "Policy_Change          17721\n",
       "Treatment              17721\n",
       "customer_id            17721\n",
       "gender                 17721\n",
       "age_band               17625\n",
       "est_income_code        17709\n",
       "ethnic_code            17721\n",
       "homeowner_code         17709\n",
       "length_of_residence    17709\n",
       "child                  17709\n",
       "dtype: int64"
      ]
     },
     "execution_count": 75,
     "metadata": {},
     "output_type": "execute_result"
    }
   ],
   "source": [
    "online_cust_att_final.count()"
   ]
  },
  {
   "cell_type": "code",
   "execution_count": 76,
   "metadata": {
    "collapsed": false
   },
   "outputs": [],
   "source": [
    "online_cust_att_final.to_csv('M_q5_Online.csv')"
   ]
  },
  {
   "cell_type": "markdown",
   "metadata": {},
   "source": [
    "### PHYSICAL STORE"
   ]
  },
  {
   "cell_type": "code",
   "execution_count": 77,
   "metadata": {
    "collapsed": true
   },
   "outputs": [],
   "source": [
    "q5_physical = py_sql(\"SELECT * from trans where store_number not in (2,6,10)\")"
   ]
  },
  {
   "cell_type": "code",
   "execution_count": 78,
   "metadata": {
    "collapsed": true
   },
   "outputs": [],
   "source": [
    "# Data Cleansing\n",
    "q5_physical['customer_id2'] = q5_physical.customer_id.astype(int).astype(str)\n",
    "q5_physical['store_number2'] = q5_physical.store_number.astype(int).astype(str)\n",
    "q5_physical['Brand_number2'] = q5_physical.Brand_number.astype(int).astype(str)"
   ]
  },
  {
   "cell_type": "code",
   "execution_count": 79,
   "metadata": {
    "collapsed": false
   },
   "outputs": [
    {
     "data": {
      "text/html": [
       "<div>\n",
       "<table border=\"1\" class=\"dataframe\">\n",
       "  <thead>\n",
       "    <tr style=\"text-align: right;\">\n",
       "      <th></th>\n",
       "      <th>customer_id</th>\n",
       "      <th>purchase_date</th>\n",
       "      <th>transaction_id</th>\n",
       "      <th>store_number</th>\n",
       "      <th>net_purchase_amount</th>\n",
       "      <th>sku</th>\n",
       "      <th>sales_assoc_1</th>\n",
       "      <th>return</th>\n",
       "      <th>return_date</th>\n",
       "      <th>return_store</th>\n",
       "      <th>...</th>\n",
       "      <th>length_of_residence</th>\n",
       "      <th>child</th>\n",
       "      <th>year</th>\n",
       "      <th>month</th>\n",
       "      <th>month_index</th>\n",
       "      <th>summary</th>\n",
       "      <th>Brand_number</th>\n",
       "      <th>customer_id2</th>\n",
       "      <th>store_number2</th>\n",
       "      <th>Brand_number2</th>\n",
       "    </tr>\n",
       "  </thead>\n",
       "  <tbody>\n",
       "    <tr>\n",
       "      <th>0</th>\n",
       "      <td>26888023.0</td>\n",
       "      <td>19SEP2013:00:00:00</td>\n",
       "      <td>2141863.0</td>\n",
       "      <td>1003.0</td>\n",
       "      <td>449.100010</td>\n",
       "      <td>17031584.0</td>\n",
       "      <td>NaN</td>\n",
       "      <td>1.0</td>\n",
       "      <td>19SEP2013:00:00:00</td>\n",
       "      <td>1003.0</td>\n",
       "      <td>...</td>\n",
       "      <td>2.0</td>\n",
       "      <td>N</td>\n",
       "      <td>2013.0</td>\n",
       "      <td>SEP</td>\n",
       "      <td>50.0</td>\n",
       "      <td>2.0</td>\n",
       "      <td>2.0</td>\n",
       "      <td>26888023</td>\n",
       "      <td>1003</td>\n",
       "      <td>2</td>\n",
       "    </tr>\n",
       "    <tr>\n",
       "      <th>1</th>\n",
       "      <td>38627803.0</td>\n",
       "      <td>08SEP2013:00:00:00</td>\n",
       "      <td>1142396.0</td>\n",
       "      <td>1003.0</td>\n",
       "      <td>99.989998</td>\n",
       "      <td>18541896.0</td>\n",
       "      <td>1044909.0</td>\n",
       "      <td>0.0</td>\n",
       "      <td>None</td>\n",
       "      <td>NaN</td>\n",
       "      <td>...</td>\n",
       "      <td>15.0</td>\n",
       "      <td>N</td>\n",
       "      <td>2013.0</td>\n",
       "      <td>SEP</td>\n",
       "      <td>50.0</td>\n",
       "      <td>21.0</td>\n",
       "      <td>2.0</td>\n",
       "      <td>38627803</td>\n",
       "      <td>1003</td>\n",
       "      <td>2</td>\n",
       "    </tr>\n",
       "  </tbody>\n",
       "</table>\n",
       "<p>2 rows × 26 columns</p>\n",
       "</div>"
      ],
      "text/plain": [
       "   customer_id       purchase_date  transaction_id  store_number  \\\n",
       "0   26888023.0  19SEP2013:00:00:00       2141863.0        1003.0   \n",
       "1   38627803.0  08SEP2013:00:00:00       1142396.0        1003.0   \n",
       "\n",
       "   net_purchase_amount         sku  sales_assoc_1  return         return_date  \\\n",
       "0           449.100010  17031584.0            NaN     1.0  19SEP2013:00:00:00   \n",
       "1            99.989998  18541896.0      1044909.0     0.0                None   \n",
       "\n",
       "   return_store      ...       length_of_residence child    year  month  \\\n",
       "0        1003.0      ...                       2.0     N  2013.0    SEP   \n",
       "1           NaN      ...                      15.0     N  2013.0    SEP   \n",
       "\n",
       "  month_index summary  Brand_number customer_id2  store_number2 Brand_number2  \n",
       "0        50.0     2.0           2.0     26888023           1003             2  \n",
       "1        50.0    21.0           2.0     38627803           1003             2  \n",
       "\n",
       "[2 rows x 26 columns]"
      ]
     },
     "execution_count": 79,
     "metadata": {},
     "output_type": "execute_result"
    }
   ],
   "source": [
    "q5_physical.head(2)"
   ]
  },
  {
   "cell_type": "code",
   "execution_count": 80,
   "metadata": {
    "collapsed": false
   },
   "outputs": [
    {
     "data": {
      "text/plain": [
       "1382782"
      ]
     },
     "execution_count": 80,
     "metadata": {},
     "output_type": "execute_result"
    }
   ],
   "source": [
    "q5_physical['customer_id'].nunique()"
   ]
  },
  {
   "cell_type": "code",
   "execution_count": 81,
   "metadata": {
    "collapsed": false
   },
   "outputs": [
    {
     "data": {
      "text/plain": [
       "2604817"
      ]
     },
     "execution_count": 81,
     "metadata": {},
     "output_type": "execute_result"
    }
   ],
   "source": [
    "q5_physical['store_number'].count()"
   ]
  },
  {
   "cell_type": "code",
   "execution_count": 82,
   "metadata": {
    "collapsed": false
   },
   "outputs": [
    {
     "data": {
      "text/plain": [
       "array(['2', '3', '5', '8'], dtype=object)"
      ]
     },
     "execution_count": 82,
     "metadata": {},
     "output_type": "execute_result"
    }
   ],
   "source": [
    "q5_physical['Brand_number2'].unique()"
   ]
  },
  {
   "cell_type": "code",
   "execution_count": 83,
   "metadata": {
    "collapsed": true
   },
   "outputs": [],
   "source": [
    "q5_physical_treat = py_sql(\"SELECT *, \\\n",
    "                                (case when month_index > 50 then 1 else 0 end) as Policy_Change, \\\n",
    "                                (case when Brand_number2 in ('2','3','5') then 1 else 0 end ) as Treatment \\\n",
    "                      FROM q5_physical \\\n",
    "                      WHERE Brand_number2 in ('2','3','5') \\\n",
    "                      AND customer_id2 in \\\n",
    "                      (                    \\\n",
    "                         SELECT DISTINCT customer_id2 \\\n",
    "                         FROM q5_physical \\\n",
    "                         WHERE month_index > 50 \\\n",
    "                         AND Brand_number2 in ('2','3','5') \\\n",
    "                         AND customer_id2 in \\\n",
    "                         (                  \\\n",
    "                            SELECT DISTINCT customer_id2  \\\n",
    "                            FROM q5_physical \\\n",
    "                            where month_index <= 50 \\\n",
    "                            AND Brand_number2 in ('2','3','5')  \\\n",
    "                         ) \\\n",
    "                       )\\\n",
    "                       AND customer_id2 not in \\\n",
    "                       (                  \\\n",
    "                           SELECT DISTINCT customer_id2 \\\n",
    "                           FROM q5_physical \\\n",
    "                           WHERE month_index > 50 \\\n",
    "                           AND Brand_number2 in ('8') \\\n",
    "                           AND customer_id2 in \\\n",
    "                           (                  \\\n",
    "                               SELECT DISTINCT customer_id2  \\\n",
    "                               FROM q5_physical \\\n",
    "                               WHERE month_index <= 50 \\\n",
    "                               AND Brand_number2 in ('8')  \\\n",
    "                           )\\\n",
    "                        ) \\\n",
    "                        ;\" )"
   ]
  },
  {
   "cell_type": "code",
   "execution_count": 84,
   "metadata": {
    "collapsed": true
   },
   "outputs": [],
   "source": [
    "q5_physical_cont = py_sql(\"SELECT *, \\\n",
    "                                (case when month_index > 50 then 1 else 0 end) as Policy_Change, \\\n",
    "                                (case when Brand_number2 in ('2','3','5') then 1 else 0 end ) as Treatment \\\n",
    "                      FROM q5_physical \\\n",
    "                      WHERE Brand_number2 in ('8') \\\n",
    "                      AND customer_id2 in \\\n",
    "                      (                    \\\n",
    "                         SELECT DISTINCT customer_id2 \\\n",
    "                         FROM q5_physical \\\n",
    "                         WHERE month_index > 50 \\\n",
    "                         AND Brand_number2 in ('8') \\\n",
    "                         AND customer_id2 in \\\n",
    "                         (                  \\\n",
    "                            SELECT DISTINCT customer_id2  \\\n",
    "                            FROM q5_physical \\\n",
    "                            where month_index <= 50 \\\n",
    "                            AND Brand_number2 in ('8')  \\\n",
    "                         ) \\\n",
    "                       )\\\n",
    "                       AND customer_id2 not in \\\n",
    "                       (                  \\\n",
    "                           SELECT DISTINCT customer_id2 \\\n",
    "                           FROM q5_physical \\\n",
    "                           WHERE month_index > 50 \\\n",
    "                           AND Brand_number2 in ('2','3','5') \\\n",
    "                           AND customer_id2 in \\\n",
    "                           (                  \\\n",
    "                               SELECT DISTINCT customer_id2  \\\n",
    "                               FROM q5_physical \\\n",
    "                               WHERE month_index <= 50 \\\n",
    "                               AND Brand_number2 in ('2','3','5')  \\\n",
    "                           )\\\n",
    "                        ) \\\n",
    "                        ;\" )"
   ]
  },
  {
   "cell_type": "code",
   "execution_count": 85,
   "metadata": {
    "collapsed": true
   },
   "outputs": [],
   "source": [
    "#Data Cleansing\n",
    "q5_physical_treat['Treatment'] = q5_physical_treat.Treatment.astype(int).astype(str)\n",
    "q5_physical_treat['Policy_Change'] = q5_physical_treat.Policy_Change.astype(int).astype(str)"
   ]
  },
  {
   "cell_type": "code",
   "execution_count": 86,
   "metadata": {
    "collapsed": false
   },
   "outputs": [],
   "source": [
    "#Data Cleansing\n",
    "q5_physical_cont['Treatment'] = q5_physical_cont.Treatment.astype(int).astype(str)\n",
    "q5_physical_cont['Policy_Change'] = q5_physical_cont.Policy_Change.astype(int).astype(str)"
   ]
  },
  {
   "cell_type": "code",
   "execution_count": 87,
   "metadata": {
    "collapsed": false
   },
   "outputs": [
    {
     "data": {
      "text/plain": [
       "45757"
      ]
     },
     "execution_count": 87,
     "metadata": {},
     "output_type": "execute_result"
    }
   ],
   "source": [
    "#Checking if the sub table has same number of customer ids\n",
    "q5_physical_treat['customer_id2'].nunique()"
   ]
  },
  {
   "cell_type": "code",
   "execution_count": 88,
   "metadata": {
    "collapsed": false
   },
   "outputs": [
    {
     "data": {
      "text/plain": [
       "7534"
      ]
     },
     "execution_count": 88,
     "metadata": {},
     "output_type": "execute_result"
    }
   ],
   "source": [
    "#Checking if the sub table has same number of customer ids\n",
    "q5_physical_cont['customer_id2'].nunique()"
   ]
  },
  {
   "cell_type": "code",
   "execution_count": 89,
   "metadata": {
    "collapsed": false
   },
   "outputs": [],
   "source": [
    "#Creating new dataframe for Q6 without aggregation with both Treatment and Control\n",
    "q5_without_aggregation_phy = pd.concat([q5_physical_treat, q5_physical_cont])"
   ]
  },
  {
   "cell_type": "code",
   "execution_count": 90,
   "metadata": {
    "collapsed": false
   },
   "outputs": [
    {
     "data": {
      "text/html": [
       "<div>\n",
       "<table border=\"1\" class=\"dataframe\">\n",
       "  <thead>\n",
       "    <tr style=\"text-align: right;\">\n",
       "      <th></th>\n",
       "      <th>customer_id</th>\n",
       "      <th>purchase_date</th>\n",
       "      <th>transaction_id</th>\n",
       "      <th>store_number</th>\n",
       "      <th>net_purchase_amount</th>\n",
       "      <th>sku</th>\n",
       "      <th>sales_assoc_1</th>\n",
       "      <th>return</th>\n",
       "      <th>return_date</th>\n",
       "      <th>return_store</th>\n",
       "      <th>...</th>\n",
       "      <th>year</th>\n",
       "      <th>month</th>\n",
       "      <th>month_index</th>\n",
       "      <th>summary</th>\n",
       "      <th>Brand_number</th>\n",
       "      <th>customer_id2</th>\n",
       "      <th>store_number2</th>\n",
       "      <th>Brand_number2</th>\n",
       "      <th>Policy_Change</th>\n",
       "      <th>Treatment</th>\n",
       "    </tr>\n",
       "  </thead>\n",
       "  <tbody>\n",
       "    <tr>\n",
       "      <th>0</th>\n",
       "      <td>16295382.0</td>\n",
       "      <td>08DEC2013:00:00:00</td>\n",
       "      <td>1148219.0</td>\n",
       "      <td>1003.0</td>\n",
       "      <td>299.989990</td>\n",
       "      <td>18132555.0</td>\n",
       "      <td>455666.0</td>\n",
       "      <td>0.0</td>\n",
       "      <td>None</td>\n",
       "      <td>NaN</td>\n",
       "      <td>...</td>\n",
       "      <td>2013.0</td>\n",
       "      <td>DEC</td>\n",
       "      <td>53.0</td>\n",
       "      <td>21.0</td>\n",
       "      <td>2.0</td>\n",
       "      <td>16295382</td>\n",
       "      <td>1003</td>\n",
       "      <td>2</td>\n",
       "      <td>1</td>\n",
       "      <td>1</td>\n",
       "    </tr>\n",
       "    <tr>\n",
       "      <th>1</th>\n",
       "      <td>5199819.0</td>\n",
       "      <td>01NOV2013:00:00:00</td>\n",
       "      <td>1145683.0</td>\n",
       "      <td>1003.0</td>\n",
       "      <td>49.990002</td>\n",
       "      <td>19871623.0</td>\n",
       "      <td>1037042.0</td>\n",
       "      <td>0.0</td>\n",
       "      <td>None</td>\n",
       "      <td>NaN</td>\n",
       "      <td>...</td>\n",
       "      <td>2013.0</td>\n",
       "      <td>NOV</td>\n",
       "      <td>52.0</td>\n",
       "      <td>5.0</td>\n",
       "      <td>2.0</td>\n",
       "      <td>5199819</td>\n",
       "      <td>1003</td>\n",
       "      <td>2</td>\n",
       "      <td>1</td>\n",
       "      <td>1</td>\n",
       "    </tr>\n",
       "    <tr>\n",
       "      <th>2</th>\n",
       "      <td>21473844.0</td>\n",
       "      <td>10AUG2013:00:00:00</td>\n",
       "      <td>488320.0</td>\n",
       "      <td>1003.0</td>\n",
       "      <td>168.750000</td>\n",
       "      <td>18097600.0</td>\n",
       "      <td>455666.0</td>\n",
       "      <td>0.0</td>\n",
       "      <td>None</td>\n",
       "      <td>NaN</td>\n",
       "      <td>...</td>\n",
       "      <td>2013.0</td>\n",
       "      <td>AUG</td>\n",
       "      <td>49.0</td>\n",
       "      <td>13.0</td>\n",
       "      <td>2.0</td>\n",
       "      <td>21473844</td>\n",
       "      <td>1003</td>\n",
       "      <td>2</td>\n",
       "      <td>0</td>\n",
       "      <td>1</td>\n",
       "    </tr>\n",
       "    <tr>\n",
       "      <th>3</th>\n",
       "      <td>23827242.0</td>\n",
       "      <td>15DEC2013:00:00:00</td>\n",
       "      <td>1148817.0</td>\n",
       "      <td>1003.0</td>\n",
       "      <td>35.000000</td>\n",
       "      <td>19945317.0</td>\n",
       "      <td>1048782.0</td>\n",
       "      <td>0.0</td>\n",
       "      <td>None</td>\n",
       "      <td>NaN</td>\n",
       "      <td>...</td>\n",
       "      <td>2013.0</td>\n",
       "      <td>DEC</td>\n",
       "      <td>53.0</td>\n",
       "      <td>NaN</td>\n",
       "      <td>2.0</td>\n",
       "      <td>23827242</td>\n",
       "      <td>1003</td>\n",
       "      <td>2</td>\n",
       "      <td>1</td>\n",
       "      <td>1</td>\n",
       "    </tr>\n",
       "    <tr>\n",
       "      <th>4</th>\n",
       "      <td>37682307.0</td>\n",
       "      <td>31DEC2013:00:00:00</td>\n",
       "      <td>2144445.0</td>\n",
       "      <td>1003.0</td>\n",
       "      <td>199.990010</td>\n",
       "      <td>18500223.0</td>\n",
       "      <td>860485.0</td>\n",
       "      <td>0.0</td>\n",
       "      <td>None</td>\n",
       "      <td>NaN</td>\n",
       "      <td>...</td>\n",
       "      <td>2013.0</td>\n",
       "      <td>DEC</td>\n",
       "      <td>53.0</td>\n",
       "      <td>4.0</td>\n",
       "      <td>2.0</td>\n",
       "      <td>37682307</td>\n",
       "      <td>1003</td>\n",
       "      <td>2</td>\n",
       "      <td>1</td>\n",
       "      <td>1</td>\n",
       "    </tr>\n",
       "  </tbody>\n",
       "</table>\n",
       "<p>5 rows × 28 columns</p>\n",
       "</div>"
      ],
      "text/plain": [
       "   customer_id       purchase_date  transaction_id  store_number  \\\n",
       "0   16295382.0  08DEC2013:00:00:00       1148219.0        1003.0   \n",
       "1    5199819.0  01NOV2013:00:00:00       1145683.0        1003.0   \n",
       "2   21473844.0  10AUG2013:00:00:00        488320.0        1003.0   \n",
       "3   23827242.0  15DEC2013:00:00:00       1148817.0        1003.0   \n",
       "4   37682307.0  31DEC2013:00:00:00       2144445.0        1003.0   \n",
       "\n",
       "   net_purchase_amount         sku  sales_assoc_1  return return_date  \\\n",
       "0           299.989990  18132555.0       455666.0     0.0        None   \n",
       "1            49.990002  19871623.0      1037042.0     0.0        None   \n",
       "2           168.750000  18097600.0       455666.0     0.0        None   \n",
       "3            35.000000  19945317.0      1048782.0     0.0        None   \n",
       "4           199.990010  18500223.0       860485.0     0.0        None   \n",
       "\n",
       "   return_store    ...       year month  month_index  summary Brand_number  \\\n",
       "0           NaN    ...     2013.0   DEC         53.0     21.0          2.0   \n",
       "1           NaN    ...     2013.0   NOV         52.0      5.0          2.0   \n",
       "2           NaN    ...     2013.0   AUG         49.0     13.0          2.0   \n",
       "3           NaN    ...     2013.0   DEC         53.0      NaN          2.0   \n",
       "4           NaN    ...     2013.0   DEC         53.0      4.0          2.0   \n",
       "\n",
       "  customer_id2  store_number2 Brand_number2  Policy_Change Treatment  \n",
       "0     16295382           1003             2              1         1  \n",
       "1      5199819           1003             2              1         1  \n",
       "2     21473844           1003             2              0         1  \n",
       "3     23827242           1003             2              1         1  \n",
       "4     37682307           1003             2              1         1  \n",
       "\n",
       "[5 rows x 28 columns]"
      ]
     },
     "execution_count": 90,
     "metadata": {},
     "output_type": "execute_result"
    }
   ],
   "source": [
    "q5_without_aggregation_phy.head(5)"
   ]
  },
  {
   "cell_type": "code",
   "execution_count": 91,
   "metadata": {
    "collapsed": false
   },
   "outputs": [
    {
     "data": {
      "text/plain": [
       "customer_id            245419\n",
       "purchase_date          245419\n",
       "transaction_id         245419\n",
       "store_number           245419\n",
       "net_purchase_amount    245419\n",
       "sku                    245419\n",
       "sales_assoc_1          240560\n",
       "return                 245419\n",
       "return_date             35387\n",
       "return_store            35387\n",
       "time_to_return          35387\n",
       "gender                 186592\n",
       "age_band               200404\n",
       "est_income_code        198929\n",
       "ethnic_code            201772\n",
       "homeowner_code         198929\n",
       "length_of_residence    198929\n",
       "child                  198929\n",
       "year                   245419\n",
       "month                  245419\n",
       "month_index            245419\n",
       "summary                233229\n",
       "Brand_number           245419\n",
       "customer_id2           245419\n",
       "store_number2          245419\n",
       "Brand_number2          245419\n",
       "Policy_Change          245419\n",
       "Treatment              245419\n",
       "dtype: int64"
      ]
     },
     "execution_count": 91,
     "metadata": {},
     "output_type": "execute_result"
    }
   ],
   "source": [
    "q5_without_aggregation_phy.count()"
   ]
  },
  {
   "cell_type": "code",
   "execution_count": 92,
   "metadata": {
    "collapsed": true
   },
   "outputs": [],
   "source": [
    "q5_physical_treat_1  =  py_sql(\"SELECT customer_id2, \\\n",
    "                                     round(sum(net_purchase_amount), 2) as net_purchase_amount, \\\n",
    "                                     count(*) as Sales_Quantity, \\\n",
    "                                     Policy_Change\\\n",
    "                              FROM   q5_physical_treat \\\n",
    "                              GROUP  BY customer_id2, Policy_Change;\")"
   ]
  },
  {
   "cell_type": "code",
   "execution_count": 93,
   "metadata": {
    "collapsed": false
   },
   "outputs": [],
   "source": [
    "q5_physical_cont_1 =  py_sql(\"SELECT customer_id2, \\\n",
    "                                     round(sum(net_purchase_amount), 2) as net_purchase_amount, \\\n",
    "                                     count(*) as Sales_Quantity, \\\n",
    "                                     Policy_Change \\\n",
    "                              FROM   q5_physical_cont \\\n",
    "                              GROUP  BY customer_id2, Policy_Change;\")"
   ]
  },
  {
   "cell_type": "code",
   "execution_count": 94,
   "metadata": {
    "collapsed": false
   },
   "outputs": [
    {
     "data": {
      "text/plain": [
       "7534"
      ]
     },
     "execution_count": 94,
     "metadata": {},
     "output_type": "execute_result"
    }
   ],
   "source": [
    "#Rechecking if new dataset has same number of unique customer ids\n",
    "q5_physical_cont_1['customer_id2'].nunique()"
   ]
  },
  {
   "cell_type": "code",
   "execution_count": 95,
   "metadata": {
    "collapsed": false
   },
   "outputs": [
    {
     "data": {
      "text/plain": [
       "45757"
      ]
     },
     "execution_count": 95,
     "metadata": {},
     "output_type": "execute_result"
    }
   ],
   "source": [
    "#Rechecking if new dataset has same number of unique customer ids\n",
    "q5_physical_treat_1['customer_id2'].nunique()"
   ]
  },
  {
   "cell_type": "code",
   "execution_count": 96,
   "metadata": {
    "collapsed": true
   },
   "outputs": [],
   "source": [
    "#Finding out customer_ids that are present in both treatment and control \n",
    "intersection_5_physical = py_sql(\"SELECT distinct customer_id2 \\\n",
    "                         FROM   q5_physical_treat_1 \\\n",
    "                         WHERE customer_id2 in \\\n",
    "                               (                \\\n",
    "                               SELECT distinct customer_id2 \\\n",
    "                               FROM   q5_physical_cont_1 \\\n",
    "                               );\"       \n",
    "                        )"
   ]
  },
  {
   "cell_type": "code",
   "execution_count": 97,
   "metadata": {
    "collapsed": false
   },
   "outputs": [
    {
     "data": {
      "text/plain": [
       "Series([], Name: customer_id2, dtype: object)"
      ]
     },
     "execution_count": 97,
     "metadata": {},
     "output_type": "execute_result"
    }
   ],
   "source": [
    "# We should actually not get any common customer ids as this has already been taken care off in the query\n",
    "# while generating q5_online_cont\n",
    "intersection_5_physical['customer_id2']"
   ]
  },
  {
   "cell_type": "code",
   "execution_count": 98,
   "metadata": {
    "collapsed": true
   },
   "outputs": [],
   "source": [
    "# just adding Treatment group to physical_treat_1\n",
    "q5_physical_treat_2 = py_sql(\"SELECT *, \\\n",
    "                           1 as Treatment \\\n",
    "                          FROM q5_physical_treat_1;\")"
   ]
  },
  {
   "cell_type": "code",
   "execution_count": 99,
   "metadata": {
    "collapsed": false
   },
   "outputs": [
    {
     "data": {
      "text/html": [
       "<div>\n",
       "<table border=\"1\" class=\"dataframe\">\n",
       "  <thead>\n",
       "    <tr style=\"text-align: right;\">\n",
       "      <th></th>\n",
       "      <th>customer_id</th>\n",
       "      <th>purchase_date</th>\n",
       "      <th>transaction_id</th>\n",
       "      <th>store_number</th>\n",
       "      <th>net_purchase_amount</th>\n",
       "      <th>sku</th>\n",
       "      <th>sales_assoc_1</th>\n",
       "      <th>return</th>\n",
       "      <th>return_date</th>\n",
       "      <th>return_store</th>\n",
       "      <th>...</th>\n",
       "      <th>length_of_residence</th>\n",
       "      <th>child</th>\n",
       "      <th>year</th>\n",
       "      <th>month</th>\n",
       "      <th>month_index</th>\n",
       "      <th>summary</th>\n",
       "      <th>Brand_number</th>\n",
       "      <th>customer_id2</th>\n",
       "      <th>store_number2</th>\n",
       "      <th>Brand_number2</th>\n",
       "    </tr>\n",
       "  </thead>\n",
       "  <tbody>\n",
       "    <tr>\n",
       "      <th>0</th>\n",
       "      <td>26888023.0</td>\n",
       "      <td>19SEP2013:00:00:00</td>\n",
       "      <td>2141863.0</td>\n",
       "      <td>1003.0</td>\n",
       "      <td>449.100010</td>\n",
       "      <td>17031584.0</td>\n",
       "      <td>NaN</td>\n",
       "      <td>1.0</td>\n",
       "      <td>19SEP2013:00:00:00</td>\n",
       "      <td>1003.0</td>\n",
       "      <td>...</td>\n",
       "      <td>2.0</td>\n",
       "      <td>N</td>\n",
       "      <td>2013.0</td>\n",
       "      <td>SEP</td>\n",
       "      <td>50.0</td>\n",
       "      <td>2.0</td>\n",
       "      <td>2.0</td>\n",
       "      <td>26888023</td>\n",
       "      <td>1003</td>\n",
       "      <td>2</td>\n",
       "    </tr>\n",
       "    <tr>\n",
       "      <th>1</th>\n",
       "      <td>38627803.0</td>\n",
       "      <td>08SEP2013:00:00:00</td>\n",
       "      <td>1142396.0</td>\n",
       "      <td>1003.0</td>\n",
       "      <td>99.989998</td>\n",
       "      <td>18541896.0</td>\n",
       "      <td>1044909.0</td>\n",
       "      <td>0.0</td>\n",
       "      <td>None</td>\n",
       "      <td>NaN</td>\n",
       "      <td>...</td>\n",
       "      <td>15.0</td>\n",
       "      <td>N</td>\n",
       "      <td>2013.0</td>\n",
       "      <td>SEP</td>\n",
       "      <td>50.0</td>\n",
       "      <td>21.0</td>\n",
       "      <td>2.0</td>\n",
       "      <td>38627803</td>\n",
       "      <td>1003</td>\n",
       "      <td>2</td>\n",
       "    </tr>\n",
       "  </tbody>\n",
       "</table>\n",
       "<p>2 rows × 26 columns</p>\n",
       "</div>"
      ],
      "text/plain": [
       "   customer_id       purchase_date  transaction_id  store_number  \\\n",
       "0   26888023.0  19SEP2013:00:00:00       2141863.0        1003.0   \n",
       "1   38627803.0  08SEP2013:00:00:00       1142396.0        1003.0   \n",
       "\n",
       "   net_purchase_amount         sku  sales_assoc_1  return         return_date  \\\n",
       "0           449.100010  17031584.0            NaN     1.0  19SEP2013:00:00:00   \n",
       "1            99.989998  18541896.0      1044909.0     0.0                None   \n",
       "\n",
       "   return_store      ...       length_of_residence child    year  month  \\\n",
       "0        1003.0      ...                       2.0     N  2013.0    SEP   \n",
       "1           NaN      ...                      15.0     N  2013.0    SEP   \n",
       "\n",
       "  month_index summary  Brand_number customer_id2  store_number2 Brand_number2  \n",
       "0        50.0     2.0           2.0     26888023           1003             2  \n",
       "1        50.0    21.0           2.0     38627803           1003             2  \n",
       "\n",
       "[2 rows x 26 columns]"
      ]
     },
     "execution_count": 99,
     "metadata": {},
     "output_type": "execute_result"
    }
   ],
   "source": [
    "q5_physical.head(2)"
   ]
  },
  {
   "cell_type": "code",
   "execution_count": 100,
   "metadata": {
    "collapsed": true
   },
   "outputs": [],
   "source": [
    "# just adding Treatment group to physical_cont_1\n",
    "q5_physical_cont_2 = py_sql(\"SELECT *, \\\n",
    "                           0 as Treatment \\\n",
    "                          FROM q5_physical_cont_1;\")"
   ]
  },
  {
   "cell_type": "code",
   "execution_count": 101,
   "metadata": {
    "collapsed": false,
    "scrolled": true
   },
   "outputs": [
    {
     "data": {
      "text/html": [
       "<div>\n",
       "<table border=\"1\" class=\"dataframe\">\n",
       "  <thead>\n",
       "    <tr style=\"text-align: right;\">\n",
       "      <th></th>\n",
       "      <th>customer_id2</th>\n",
       "      <th>net_purchase_amount</th>\n",
       "      <th>Sales_Quantity</th>\n",
       "      <th>Policy_Change</th>\n",
       "      <th>Treatment</th>\n",
       "    </tr>\n",
       "  </thead>\n",
       "  <tbody>\n",
       "    <tr>\n",
       "      <th>0</th>\n",
       "      <td>1000000001048</td>\n",
       "      <td>22.48</td>\n",
       "      <td>2.0</td>\n",
       "      <td>0</td>\n",
       "      <td>0</td>\n",
       "    </tr>\n",
       "    <tr>\n",
       "      <th>1</th>\n",
       "      <td>1000000001048</td>\n",
       "      <td>22.48</td>\n",
       "      <td>2.0</td>\n",
       "      <td>1</td>\n",
       "      <td>0</td>\n",
       "    </tr>\n",
       "  </tbody>\n",
       "</table>\n",
       "</div>"
      ],
      "text/plain": [
       "    customer_id2  net_purchase_amount  Sales_Quantity Policy_Change  Treatment\n",
       "0  1000000001048                22.48             2.0             0          0\n",
       "1  1000000001048                22.48             2.0             1          0"
      ]
     },
     "execution_count": 101,
     "metadata": {},
     "output_type": "execute_result"
    }
   ],
   "source": [
    "q5_physical_cont_2.head(2)"
   ]
  },
  {
   "cell_type": "code",
   "execution_count": 102,
   "metadata": {
    "collapsed": true
   },
   "outputs": [],
   "source": [
    "#Final data frame for physical stores\n",
    "q5_final_physical = pd.concat([q5_physical_treat_2, q5_physical_cont_2])"
   ]
  },
  {
   "cell_type": "code",
   "execution_count": 103,
   "metadata": {
    "collapsed": false,
    "scrolled": true
   },
   "outputs": [
    {
     "data": {
      "text/plain": [
       "Policy_Change\n",
       "0    53291\n",
       "1    53291\n",
       "Name: customer_id2, dtype: int64"
      ]
     },
     "execution_count": 103,
     "metadata": {},
     "output_type": "execute_result"
    }
   ],
   "source": [
    "q5_final_physical.groupby(['Policy_Change'])['customer_id2'].count()"
   ]
  },
  {
   "cell_type": "code",
   "execution_count": 104,
   "metadata": {
    "collapsed": false
   },
   "outputs": [
    {
     "data": {
      "text/plain": [
       "customer_id2           106582\n",
       "net_purchase_amount    106582\n",
       "Sales_Quantity         106582\n",
       "Policy_Change          106582\n",
       "Treatment              106582\n",
       "dtype: int64"
      ]
     },
     "execution_count": 104,
     "metadata": {},
     "output_type": "execute_result"
    }
   ],
   "source": [
    "q5_final_physical.count()"
   ]
  },
  {
   "cell_type": "code",
   "execution_count": 105,
   "metadata": {
    "collapsed": true
   },
   "outputs": [],
   "source": [
    "physical_store = py_sql(\"SELECT * FROM trans WHERE store_number not in (2,6,10)\")"
   ]
  },
  {
   "cell_type": "code",
   "execution_count": 106,
   "metadata": {
    "collapsed": true
   },
   "outputs": [],
   "source": [
    "physical_store_1 = py_sql(\"SELECT customer_id, max(gender) as gender, max(age_band) as age_band, \\\n",
    "                              max(est_income_code) as est_income_code, \\\n",
    "                              max(ethnic_code) as ethnic_code, max(homeowner_code) as homeowner_code, \\\n",
    "                              max(length_of_residence) as length_of_residence, max(child) as child \\\n",
    "                         FROM physical_store \\\n",
    "                         GROUP BY customer_id;\")"
   ]
  },
  {
   "cell_type": "code",
   "execution_count": 107,
   "metadata": {
    "collapsed": false
   },
   "outputs": [
    {
     "data": {
      "text/html": [
       "<div>\n",
       "<table border=\"1\" class=\"dataframe\">\n",
       "  <thead>\n",
       "    <tr style=\"text-align: right;\">\n",
       "      <th></th>\n",
       "      <th>customer_id</th>\n",
       "      <th>gender</th>\n",
       "      <th>age_band</th>\n",
       "      <th>est_income_code</th>\n",
       "      <th>ethnic_code</th>\n",
       "      <th>homeowner_code</th>\n",
       "      <th>length_of_residence</th>\n",
       "      <th>child</th>\n",
       "    </tr>\n",
       "  </thead>\n",
       "  <tbody>\n",
       "    <tr>\n",
       "      <th>0</th>\n",
       "      <td>100014.0</td>\n",
       "      <td>F</td>\n",
       "      <td>12.0</td>\n",
       "      <td>6.0</td>\n",
       "      <td>H</td>\n",
       "      <td>O</td>\n",
       "      <td>15.0</td>\n",
       "      <td>N</td>\n",
       "    </tr>\n",
       "    <tr>\n",
       "      <th>1</th>\n",
       "      <td>100058.0</td>\n",
       "      <td>F</td>\n",
       "      <td>5.0</td>\n",
       "      <td>6.0</td>\n",
       "      <td>H</td>\n",
       "      <td>R</td>\n",
       "      <td>2.0</td>\n",
       "      <td>N</td>\n",
       "    </tr>\n",
       "  </tbody>\n",
       "</table>\n",
       "</div>"
      ],
      "text/plain": [
       "   customer_id gender  age_band  est_income_code ethnic_code homeowner_code  \\\n",
       "0     100014.0      F      12.0              6.0           H              O   \n",
       "1     100058.0      F       5.0              6.0           H              R   \n",
       "\n",
       "   length_of_residence child  \n",
       "0                 15.0     N  \n",
       "1                  2.0     N  "
      ]
     },
     "execution_count": 107,
     "metadata": {},
     "output_type": "execute_result"
    }
   ],
   "source": [
    "physical_store_1.head(2)"
   ]
  },
  {
   "cell_type": "code",
   "execution_count": 108,
   "metadata": {
    "collapsed": false
   },
   "outputs": [],
   "source": [
    "physical_cust_att_final = py_sql(\"SELECT ps.*, p.customer_id, p.gender, \\\n",
    "                                     p.age_band, p.est_income_code, p.ethnic_code, p.homeowner_code, \\\n",
    "                                     p.length_of_residence, p.child \\\n",
    "                              FROM   q5_final_physical ps   \\\n",
    "                              INNER JOIN physical_store_1 p ON   \\\n",
    "                              ps.customer_id2 = p.customer_id \\\n",
    "                              WHERE p.gender in ('M','F')  \\\n",
    "                              AND ps.net_purchase_amount > 0;\")"
   ]
  },
  {
   "cell_type": "code",
   "execution_count": 109,
   "metadata": {
    "collapsed": false
   },
   "outputs": [
    {
     "data": {
      "text/plain": [
       "customer_id2           75555\n",
       "net_purchase_amount    75555\n",
       "Sales_Quantity         75555\n",
       "Policy_Change          75555\n",
       "Treatment              75555\n",
       "customer_id            75555\n",
       "gender                 75555\n",
       "age_band               75269\n",
       "est_income_code        75299\n",
       "ethnic_code            75555\n",
       "homeowner_code         75299\n",
       "length_of_residence    75299\n",
       "child                  75299\n",
       "dtype: int64"
      ]
     },
     "execution_count": 109,
     "metadata": {},
     "output_type": "execute_result"
    }
   ],
   "source": [
    "physical_cust_att_final.count()"
   ]
  },
  {
   "cell_type": "code",
   "execution_count": 110,
   "metadata": {
    "collapsed": true
   },
   "outputs": [],
   "source": [
    "physical_cust_att_final.to_csv('M_q5_Physical.csv')"
   ]
  },
  {
   "cell_type": "markdown",
   "metadata": {},
   "source": [
    "### Q6. What is the impact of the policy change on customers return behavior?"
   ]
  },
  {
   "cell_type": "markdown",
   "metadata": {},
   "source": [
    "#### Two Dataframes for Online q6_online_cust_at and For Physical q6_physical_cust_at"
   ]
  },
  {
   "cell_type": "markdown",
   "metadata": {},
   "source": [
    "### ONLINE STORE"
   ]
  },
  {
   "cell_type": "code",
   "execution_count": 111,
   "metadata": {
    "collapsed": true
   },
   "outputs": [],
   "source": [
    "q6_online = py_sql(\"SELECT customer_id, net_purchase_amount, gender, age_band, est_income_code, ethnic_Code, homeowner_code, \\\n",
    "                      length_of_residence, child, Policy_Change, Treatment, return \\\n",
    "                      FROM q5_without_aggregation_onl \\\n",
    "                      WHERE gender in ('M','F');\")"
   ]
  },
  {
   "cell_type": "code",
   "execution_count": 112,
   "metadata": {
    "collapsed": false
   },
   "outputs": [
    {
     "data": {
      "text/html": [
       "<div>\n",
       "<table border=\"1\" class=\"dataframe\">\n",
       "  <thead>\n",
       "    <tr style=\"text-align: right;\">\n",
       "      <th></th>\n",
       "      <th>customer_id</th>\n",
       "      <th>net_purchase_amount</th>\n",
       "      <th>gender</th>\n",
       "      <th>age_band</th>\n",
       "      <th>est_income_code</th>\n",
       "      <th>ethnic_code</th>\n",
       "      <th>homeowner_code</th>\n",
       "      <th>length_of_residence</th>\n",
       "      <th>child</th>\n",
       "      <th>Policy_Change</th>\n",
       "      <th>Treatment</th>\n",
       "      <th>return</th>\n",
       "    </tr>\n",
       "  </thead>\n",
       "  <tbody>\n",
       "    <tr>\n",
       "      <th>0</th>\n",
       "      <td>36904789.0</td>\n",
       "      <td>18.75</td>\n",
       "      <td>F</td>\n",
       "      <td>0.0</td>\n",
       "      <td>6.0</td>\n",
       "      <td>S</td>\n",
       "      <td>O</td>\n",
       "      <td>1.0</td>\n",
       "      <td>Y</td>\n",
       "      <td>1</td>\n",
       "      <td>1</td>\n",
       "      <td>0.0</td>\n",
       "    </tr>\n",
       "    <tr>\n",
       "      <th>1</th>\n",
       "      <td>36210427.0</td>\n",
       "      <td>1549.99</td>\n",
       "      <td>M</td>\n",
       "      <td>0.0</td>\n",
       "      <td>5.0</td>\n",
       "      <td>S</td>\n",
       "      <td>O</td>\n",
       "      <td>10.0</td>\n",
       "      <td>Y</td>\n",
       "      <td>0</td>\n",
       "      <td>1</td>\n",
       "      <td>0.0</td>\n",
       "    </tr>\n",
       "  </tbody>\n",
       "</table>\n",
       "</div>"
      ],
      "text/plain": [
       "   customer_id  net_purchase_amount gender  age_band  est_income_code  \\\n",
       "0   36904789.0                18.75      F       0.0              6.0   \n",
       "1   36210427.0              1549.99      M       0.0              5.0   \n",
       "\n",
       "  ethnic_code homeowner_code  length_of_residence child Policy_Change  \\\n",
       "0           S              O                  1.0     Y             1   \n",
       "1           S              O                 10.0     Y             0   \n",
       "\n",
       "  Treatment  return  \n",
       "0         1     0.0  \n",
       "1         1     0.0  "
      ]
     },
     "execution_count": 112,
     "metadata": {},
     "output_type": "execute_result"
    }
   ],
   "source": [
    "q6_online.head(2)"
   ]
  },
  {
   "cell_type": "code",
   "execution_count": 113,
   "metadata": {
    "collapsed": false
   },
   "outputs": [],
   "source": [
    "q6_online_nonan = q6_online[q6_online['child'].notnull()]"
   ]
  },
  {
   "cell_type": "code",
   "execution_count": 114,
   "metadata": {
    "collapsed": false
   },
   "outputs": [],
   "source": [
    "q6_online_nonan.to_csv('M_Q6_online.csv')"
   ]
  },
  {
   "cell_type": "code",
   "execution_count": 115,
   "metadata": {
    "collapsed": false
   },
   "outputs": [
    {
     "data": {
      "text/plain": [
       "customer_id            36831\n",
       "net_purchase_amount    36831\n",
       "gender                 36831\n",
       "age_band               36624\n",
       "est_income_code        36802\n",
       "ethnic_code            36831\n",
       "homeowner_code         36802\n",
       "length_of_residence    36802\n",
       "child                  36802\n",
       "Policy_Change          36831\n",
       "Treatment              36831\n",
       "return                 36831\n",
       "dtype: int64"
      ]
     },
     "execution_count": 115,
     "metadata": {},
     "output_type": "execute_result"
    }
   ],
   "source": [
    "# Customers who  returned\n",
    "q6_online.count()"
   ]
  },
  {
   "cell_type": "markdown",
   "metadata": {},
   "source": [
    "### PHYSICAL"
   ]
  },
  {
   "cell_type": "code",
   "execution_count": 116,
   "metadata": {
    "collapsed": true
   },
   "outputs": [],
   "source": [
    "q6_physical = py_sql(\"SELECT customer_id, net_purchase_amount, gender, age_band, est_income_code, ethnic_Code, homeowner_code, \\\n",
    "                      length_of_residence, child, Policy_Change, Treatment, return \\\n",
    "                      FROM q5_without_aggregation_phy \\\n",
    "                      WHERE gender in ('M','F');\")"
   ]
  },
  {
   "cell_type": "code",
   "execution_count": 117,
   "metadata": {
    "collapsed": false
   },
   "outputs": [
    {
     "data": {
      "text/html": [
       "<div>\n",
       "<table border=\"1\" class=\"dataframe\">\n",
       "  <thead>\n",
       "    <tr style=\"text-align: right;\">\n",
       "      <th></th>\n",
       "      <th>customer_id</th>\n",
       "      <th>net_purchase_amount</th>\n",
       "      <th>gender</th>\n",
       "      <th>age_band</th>\n",
       "      <th>est_income_code</th>\n",
       "      <th>ethnic_code</th>\n",
       "      <th>homeowner_code</th>\n",
       "      <th>length_of_residence</th>\n",
       "      <th>child</th>\n",
       "      <th>Policy_Change</th>\n",
       "      <th>Treatment</th>\n",
       "      <th>return</th>\n",
       "    </tr>\n",
       "  </thead>\n",
       "  <tbody>\n",
       "    <tr>\n",
       "      <th>0</th>\n",
       "      <td>16295382.0</td>\n",
       "      <td>299.989990</td>\n",
       "      <td>M</td>\n",
       "      <td>6.0</td>\n",
       "      <td>2.0</td>\n",
       "      <td>N</td>\n",
       "      <td>R</td>\n",
       "      <td>8.0</td>\n",
       "      <td>N</td>\n",
       "      <td>1</td>\n",
       "      <td>1</td>\n",
       "      <td>0.0</td>\n",
       "    </tr>\n",
       "    <tr>\n",
       "      <th>1</th>\n",
       "      <td>5199819.0</td>\n",
       "      <td>49.990002</td>\n",
       "      <td>F</td>\n",
       "      <td>0.0</td>\n",
       "      <td>2.0</td>\n",
       "      <td>S</td>\n",
       "      <td>R</td>\n",
       "      <td>7.0</td>\n",
       "      <td>N</td>\n",
       "      <td>1</td>\n",
       "      <td>1</td>\n",
       "      <td>0.0</td>\n",
       "    </tr>\n",
       "  </tbody>\n",
       "</table>\n",
       "</div>"
      ],
      "text/plain": [
       "   customer_id  net_purchase_amount gender  age_band  est_income_code  \\\n",
       "0   16295382.0           299.989990      M       6.0              2.0   \n",
       "1    5199819.0            49.990002      F       0.0              2.0   \n",
       "\n",
       "  ethnic_code homeowner_code  length_of_residence child Policy_Change  \\\n",
       "0           N              R                  8.0     N             1   \n",
       "1           S              R                  7.0     N             1   \n",
       "\n",
       "  Treatment  return  \n",
       "0         1     0.0  \n",
       "1         1     0.0  "
      ]
     },
     "execution_count": 117,
     "metadata": {},
     "output_type": "execute_result"
    }
   ],
   "source": [
    "q6_physical.head(2)"
   ]
  },
  {
   "cell_type": "code",
   "execution_count": 118,
   "metadata": {
    "collapsed": false
   },
   "outputs": [
    {
     "data": {
      "text/html": [
       "<div>\n",
       "<table border=\"1\" class=\"dataframe\">\n",
       "  <thead>\n",
       "    <tr style=\"text-align: right;\">\n",
       "      <th></th>\n",
       "      <th>customer_id</th>\n",
       "      <th>net_purchase_amount</th>\n",
       "      <th>gender</th>\n",
       "      <th>age_band</th>\n",
       "      <th>est_income_code</th>\n",
       "      <th>ethnic_code</th>\n",
       "      <th>homeowner_code</th>\n",
       "      <th>length_of_residence</th>\n",
       "      <th>child</th>\n",
       "      <th>Policy_Change</th>\n",
       "      <th>Treatment</th>\n",
       "      <th>return</th>\n",
       "    </tr>\n",
       "  </thead>\n",
       "  <tbody>\n",
       "    <tr>\n",
       "      <th>0</th>\n",
       "      <td>16295382.0</td>\n",
       "      <td>299.989990</td>\n",
       "      <td>M</td>\n",
       "      <td>6.0</td>\n",
       "      <td>2.0</td>\n",
       "      <td>N</td>\n",
       "      <td>R</td>\n",
       "      <td>8.0</td>\n",
       "      <td>N</td>\n",
       "      <td>1</td>\n",
       "      <td>1</td>\n",
       "      <td>0.0</td>\n",
       "    </tr>\n",
       "    <tr>\n",
       "      <th>1</th>\n",
       "      <td>5199819.0</td>\n",
       "      <td>49.990002</td>\n",
       "      <td>F</td>\n",
       "      <td>0.0</td>\n",
       "      <td>2.0</td>\n",
       "      <td>S</td>\n",
       "      <td>R</td>\n",
       "      <td>7.0</td>\n",
       "      <td>N</td>\n",
       "      <td>1</td>\n",
       "      <td>1</td>\n",
       "      <td>0.0</td>\n",
       "    </tr>\n",
       "  </tbody>\n",
       "</table>\n",
       "</div>"
      ],
      "text/plain": [
       "   customer_id  net_purchase_amount gender  age_band  est_income_code  \\\n",
       "0   16295382.0           299.989990      M       6.0              2.0   \n",
       "1    5199819.0            49.990002      F       0.0              2.0   \n",
       "\n",
       "  ethnic_code homeowner_code  length_of_residence child Policy_Change  \\\n",
       "0           N              R                  8.0     N             1   \n",
       "1           S              R                  7.0     N             1   \n",
       "\n",
       "  Treatment  return  \n",
       "0         1     0.0  \n",
       "1         1     0.0  "
      ]
     },
     "execution_count": 118,
     "metadata": {},
     "output_type": "execute_result"
    }
   ],
   "source": [
    "q6_physical.head(2)"
   ]
  },
  {
   "cell_type": "code",
   "execution_count": 119,
   "metadata": {
    "collapsed": true
   },
   "outputs": [],
   "source": [
    "q6_physical_nonan = q6_physical[q6_physical['child'].notnull()]"
   ]
  },
  {
   "cell_type": "code",
   "execution_count": 120,
   "metadata": {
    "collapsed": false
   },
   "outputs": [],
   "source": [
    "q6_physical_nonan.to_csv('M_Q6_physical.csv')"
   ]
  },
  {
   "cell_type": "markdown",
   "metadata": {},
   "source": [
    "### CALCULATING PERCENTAGE RETURNS "
   ]
  },
  {
   "cell_type": "markdown",
   "metadata": {},
   "source": [
    "#### Calculating % Returns due to Policy Change"
   ]
  },
  {
   "cell_type": "code",
   "execution_count": 263,
   "metadata": {
    "collapsed": false
   },
   "outputs": [],
   "source": [
    "online_p = q5_without_aggregation_onl.loc[~(q5_without_aggregation_onl['gender'] != \n",
    "                                            q5_without_aggregation_onl['gender'])]\n"
   ]
  },
  {
   "cell_type": "code",
   "execution_count": 232,
   "metadata": {
    "collapsed": false
   },
   "outputs": [],
   "source": [
    "#online_p.count()"
   ]
  },
  {
   "cell_type": "code",
   "execution_count": 262,
   "metadata": {
    "collapsed": true
   },
   "outputs": [],
   "source": [
    "physical_p = q5_without_aggregation_phy.loc[~(q5_without_aggregation_phy['gender'] != \n",
    "                                              q5_without_aggregation_phy['gender'])]"
   ]
  },
  {
   "cell_type": "code",
   "execution_count": 254,
   "metadata": {
    "collapsed": false
   },
   "outputs": [],
   "source": [
    "#physical_p.count()"
   ]
  },
  {
   "cell_type": "code",
   "execution_count": 267,
   "metadata": {
    "collapsed": false
   },
   "outputs": [],
   "source": [
    "total_transactions_policy_change = (q5_without_aggregation_onl['return'].count() + \n",
    "                                   q5_without_aggregation_phy['return'].count())\n"
   ]
  },
  {
   "cell_type": "code",
   "execution_count": 268,
   "metadata": {
    "collapsed": false
   },
   "outputs": [
    {
     "data": {
      "text/plain": [
       "228277"
      ]
     },
     "execution_count": 268,
     "metadata": {},
     "output_type": "execute_result"
    }
   ],
   "source": [
    "total_rows_policy_change = online_p['return'].count() + physical_p['return'].count()\n",
    "total_rows_policy_change"
   ]
  },
  {
   "cell_type": "code",
   "execution_count": 271,
   "metadata": {
    "collapsed": false
   },
   "outputs": [
    {
     "data": {
      "text/plain": [
       "26499"
      ]
     },
     "execution_count": 271,
     "metadata": {},
     "output_type": "execute_result"
    }
   ],
   "source": [
    "total_return_policy_change = q6_physical[q6_physical['return'] > 0.0 ].count() + \\\n",
    "                             q6_online[q6_online['return'] > 0.0 ].count()\n",
    "total_return_policy_change['return']"
   ]
  },
  {
   "cell_type": "code",
   "execution_count": 158,
   "metadata": {
    "collapsed": false
   },
   "outputs": [
    {
     "data": {
      "text/plain": [
       "3218197"
      ]
     },
     "execution_count": 158,
     "metadata": {},
     "output_type": "execute_result"
    }
   ],
   "source": [
    "total_transactions = trans['transaction_id'].count()\n",
    "total_transactions"
   ]
  },
  {
   "cell_type": "code",
   "execution_count": 272,
   "metadata": {
    "collapsed": false
   },
   "outputs": [
    {
     "data": {
      "text/plain": [
       "11.61"
      ]
     },
     "execution_count": 272,
     "metadata": {},
     "output_type": "execute_result"
    }
   ],
   "source": [
    "percentage_returns_policy_change = round(float(total_return_policy_change['return']) / \n",
    "                                         float(total_rows_policy_change)*100,2)\n",
    "percentage_returns_policy_change"
   ]
  },
  {
   "cell_type": "markdown",
   "metadata": {},
   "source": [
    "#### Percentage Returns due to Policy Change is 11.61%"
   ]
  },
  {
   "cell_type": "code",
   "execution_count": 148,
   "metadata": {
    "collapsed": false
   },
   "outputs": [
    {
     "data": {
      "text/plain": [
       "293964"
      ]
     },
     "execution_count": 148,
     "metadata": {},
     "output_type": "execute_result"
    }
   ],
   "source": [
    "# Calculating Original Return % from entire Dataset\n",
    "total_return_entire_data = trans_p['return'].count()\n",
    "total_return_entire_data"
   ]
  },
  {
   "cell_type": "code",
   "execution_count": 252,
   "metadata": {
    "collapsed": false
   },
   "outputs": [
    {
     "data": {
      "text/plain": [
       "9.13"
      ]
     },
     "execution_count": 252,
     "metadata": {},
     "output_type": "execute_result"
    }
   ],
   "source": [
    "# % Return from Entire Dataset\n",
    "total_percentage_returns = round(float(total_return_entire_data) / float(total_transactions)*100,2)\n",
    "total_percentage_returns"
   ]
  },
  {
   "cell_type": "markdown",
   "metadata": {},
   "source": [
    "#### Percentage Returns from Entire Dataset is 9.13%"
   ]
  },
  {
   "cell_type": "markdown",
   "metadata": {},
   "source": [
    "Total Percentage Increase in Returns = (11.61 - 9.13)/ 9.13 = 27.16%"
   ]
  }
 ],
 "metadata": {
  "kernelspec": {
   "display_name": "Python 2",
   "language": "python",
   "name": "python2"
  },
  "language_info": {
   "codemirror_mode": {
    "name": "ipython",
    "version": 2
   },
   "file_extension": ".py",
   "mimetype": "text/x-python",
   "name": "python",
   "nbconvert_exporter": "python",
   "pygments_lexer": "ipython2",
   "version": "2.7.11"
  }
 },
 "nbformat": 4,
 "nbformat_minor": 0
}
